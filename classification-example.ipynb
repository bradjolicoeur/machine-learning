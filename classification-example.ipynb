{
 "cells": [
  {
   "cell_type": "markdown",
   "metadata": {},
   "source": [
    "An simple text classifier using Semantic Kernel and OpenAI.\n",
    "\n",
    "This example is derived from this article: https://systenics.ai/blog/2024-07-26-building-a-simple-nlp-classifier-with-semantic-kernel/"
   ]
  },
  {
   "cell_type": "code",
   "execution_count": null,
   "metadata": {
    "dotnet_interactive": {
     "language": "csharp"
    },
    "polyglot_notebook": {
     "kernelName": "csharp"
    },
    "vscode": {
     "languageId": "polyglot-notebook"
    }
   },
   "outputs": [],
   "source": [
    "#r \"nuget: Microsoft.Extensions.Configuration, 8.0.0\"\n",
    "#r \"nuget: Microsoft.Extensions.Configuration.FileExtensions, 8.0.1\"\n",
    "#r \"nuget: Microsoft.Extensions.Configuration.Json, 8.0.0\"\n",
    "#r \"nuget: Microsoft.SemanticKernel, 1.17.2\"\n",
    "\n",
    "using Microsoft.Extensions.Configuration;\n",
    "using System.IO;\n",
    "\n",
    "using Microsoft.SemanticKernel;\n",
    "using Microsoft.SemanticKernel.ChatCompletion;\n",
    "using Microsoft.SemanticKernel.Connectors.OpenAI;\n",
    "\n",
    "public static var config = new ConfigurationBuilder()\n",
    "          .AddJsonFile(Path.GetFullPath(\"secrets.json\"), optional: false, reloadOnChange: true)\n",
    "          .Build();\n",
    "\n",
    "public static string OpenAIKey =  config[\"openai-key\"];"
   ]
  },
  {
   "cell_type": "markdown",
   "metadata": {},
   "source": [
    "Create enum and add prompts to dictionary"
   ]
  },
  {
   "cell_type": "code",
   "execution_count": 5,
   "metadata": {
    "vscode": {
     "languageId": "polyglot-notebook"
    }
   },
   "outputs": [],
   "source": [
    "public enum PromptType\n",
    " {\n",
    "     Simple,\n",
    "     Specific,\n",
    "     Structured,\n",
    "     FewShot,\n",
    "     AvoidGuessing\n",
    " }\n",
    "var prompts = new Dictionary<PromptType, string>\n",
    "{\n",
    "{ PromptType.Simple, \"Classify the following text: {{$request}}\" },\n",
    "{ PromptType.Specific, \"Classify the following text as one of the following: Historical, Anecdote, Folklore, Fiction, Unknown.\\nText: {{$request}}\" },\n",
    "{ PromptType.Structured, \"Instructions: Classify the following text as one of the following types:\\nChoices: Historical, Anecdote, Folklore, Fiction, Unknown.\\nUser Input: {{$request}}\\nType: \" },\n",
    "{ PromptType.FewShot, @\"Instructions: Classify the following text as one of the following types:\n",
    "Choices: Historical, Anecdote, Folklore, Fiction, Unknown.\n",
    "\n",
    "User Input: The American Revolution began in 1775.\n",
    "Type: Historical\n",
    "\n",
    "User Input: I once saw a shooting star while camping.\n",
    "Type: Anecdote\n",
    "\n",
    "User Input: The legend of Robin Hood stealing from the rich to give to the poor.\n",
    "Type: Folklore\n",
    "\n",
    "User Input: Harry Potter is a young wizard who attends Hogwarts School of Witchcraft and Wizardry.\n",
    "Type: Fiction\n",
    "\n",
    "User Input: The quantum properties of dark matter.\n",
    "Type: Unknown\n",
    "\n",
    "User Input: {{$request}}\n",
    "Type: \" },\n",
    "{ PromptType.AvoidGuessing, @\"Instructions: Classify the following text. If you don't know the type or it doesn't fit the given categories, respond with \"\"Unknown\"\".\n",
    "Choices: Historical, Anecdote, Folklore, Fiction, Unknown.\n",
    "\n",
    "User Input: {{$request}}\n",
    "Type: \" }\n",
    "};"
   ]
  },
  {
   "cell_type": "markdown",
   "metadata": {},
   "source": [
    "Set up the kernel"
   ]
  },
  {
   "cell_type": "code",
   "execution_count": 6,
   "metadata": {
    "vscode": {
     "languageId": "polyglot-notebook"
    }
   },
   "outputs": [],
   "source": [
    "static string ModelId = \"gpt-3.5-turbo-0125\";\n",
    "\n",
    "// Create a kernel with OpenAI chat completion\n",
    "var builder = Kernel.CreateBuilder()\n",
    ".AddOpenAIChatCompletion(ModelId, OpenAIKey);\n",
    "\n",
    "Kernel kernel = builder.Build();"
   ]
  },
  {
   "cell_type": "markdown",
   "metadata": {},
   "source": [
    "Make the AI call to classify an example"
   ]
  },
  {
   "cell_type": "code",
   "execution_count": 7,
   "metadata": {
    "vscode": {
     "languageId": "polyglot-notebook"
    }
   },
   "outputs": [
    {
     "data": {
      "text/plain": [
       "Fiction"
      ]
     },
     "metadata": {},
     "output_type": "display_data"
    }
   ],
   "source": [
    "string input = \"The answer to the Ultimate Question of Life, the Universe, and Everything is 42\";\n",
    "\n",
    "//Pass in the input as kernel arguments \n",
    "KernelArguments args = new KernelArguments() { { \"request\", input } };\n",
    "\n",
    "//Select a template \n",
    "PromptType selectedPrompt = PromptType.Specific;\n",
    "string promptTemplate = prompts[selectedPrompt];\n",
    "\n",
    "//Make the AI call and get the response \n",
    "FunctionResult result = await kernel.InvokePromptAsync(promptTemplate, args);\n",
    "\n",
    "string aiResponse = result.GetValue<string>();\n",
    "\n",
    "aiResponse"
   ]
  }
 ],
 "metadata": {
  "kernelspec": {
   "display_name": ".NET (C#)",
   "language": "C#",
   "name": ".net-csharp"
  },
  "language_info": {
   "name": "csharp"
  },
  "polyglot_notebook": {
   "kernelInfo": {
    "defaultKernelName": "csharp",
    "items": [
     {
      "aliases": [],
      "name": "csharp"
     }
    ]
   }
  }
 },
 "nbformat": 4,
 "nbformat_minor": 2
}
