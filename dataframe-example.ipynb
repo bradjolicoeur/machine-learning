{
 "cells": [
  {
   "cell_type": "markdown",
   "metadata": {},
   "source": [
    "In this example we are going to load a CSV file into a dataframe, filter the dataframe to houses under $250,000 and write the results to a new CSV file.\n",
    "\n",
    "First we need to set some things up."
   ]
  },
  {
   "cell_type": "code",
   "execution_count": 1,
   "metadata": {
    "dotnet_interactive": {
     "language": "csharp"
    },
    "polyglot_notebook": {
     "kernelName": "csharp"
    },
    "vscode": {
     "languageId": "polyglot-notebook"
    }
   },
   "outputs": [
    {
     "data": {
      "text/html": [
       "<div><div></div><div></div><div><strong>Installed Packages</strong><ul><li><span>Microsoft.Data.Analysis, 0.21.1</span></li></ul></div></div>"
      ]
     },
     "metadata": {},
     "output_type": "display_data"
    },
    {
     "data": {
      "text/plain": [
       "Loading extensions from `C:\\Users\\brad\\.nuget\\packages\\microsoft.data.analysis\\0.21.1\\interactive-extensions\\dotnet\\Microsoft.Data.Analysis.Interactive.dll`"
      ]
     },
     "metadata": {},
     "output_type": "display_data"
    }
   ],
   "source": [
    "#r \"nuget: Microsoft.Data.Analysis, 0.21.1\"\n",
    "\n",
    "using System.IO;\n",
    "using System.Linq;\n",
    "using Microsoft.Data.Analysis;\n",
    "\n",
    "// Define data path\n",
    "var dataPath = Path.GetFullPath(@\"data/home-sale-prices-100.csv\");"
   ]
  },
  {
   "cell_type": "markdown",
   "metadata": {},
   "source": [
    "Now Load the CSV into a dataframe."
   ]
  },
  {
   "cell_type": "code",
   "execution_count": 3,
   "metadata": {
    "dotnet_interactive": {
     "language": "csharp"
    },
    "polyglot_notebook": {
     "kernelName": "csharp"
    },
    "vscode": {
     "languageId": "polyglot-notebook"
    }
   },
   "outputs": [],
   "source": [
    "var dataFrame = DataFrame.LoadCsv(dataPath);"
   ]
  },
  {
   "cell_type": "markdown",
   "metadata": {},
   "source": [
    "Optionally, run the block below to display a description of the data that was loaded"
   ]
  },
  {
   "cell_type": "code",
   "execution_count": 4,
   "metadata": {
    "dotnet_interactive": {
     "language": "csharp"
    },
    "polyglot_notebook": {
     "kernelName": "csharp"
    },
    "vscode": {
     "languageId": "polyglot-notebook"
    }
   },
   "outputs": [
    {
     "data": {
      "text/html": [
       "<table id=\"table_638600880389138854\"><thead><tr><th><i>index</i></th><th>Description</th><th>Id</th><th>Size</th><th>HistoricalPrice</th><th>CurrentPrice</th></tr></thead><tbody><tr><td><i><div class=\"dni-plaintext\"><pre>0</pre></div></i></td><td>Length (excluding null values)</td><td><div class=\"dni-plaintext\"><pre>100</pre></div></td><td><div class=\"dni-plaintext\"><pre>100</pre></div></td><td><div class=\"dni-plaintext\"><pre>100</pre></div></td><td><div class=\"dni-plaintext\"><pre>100</pre></div></td></tr><tr><td><i><div class=\"dni-plaintext\"><pre>1</pre></div></i></td><td>Max</td><td><div class=\"dni-plaintext\"><pre>100</pre></div></td><td><div class=\"dni-plaintext\"><pre>3974</pre></div></td><td><div class=\"dni-plaintext\"><pre>746550</pre></div></td><td><div class=\"dni-plaintext\"><pre>865978</pre></div></td></tr><tr><td><i><div class=\"dni-plaintext\"><pre>2</pre></div></i></td><td>Min</td><td><div class=\"dni-plaintext\"><pre>1</pre></div></td><td><div class=\"dni-plaintext\"><pre>821</pre></div></td><td><div class=\"dni-plaintext\"><pre>190666</pre></div></td><td><div class=\"dni-plaintext\"><pre>211842.75</pre></div></td></tr><tr><td><i><div class=\"dni-plaintext\"><pre>3</pre></div></i></td><td>Mean</td><td><div class=\"dni-plaintext\"><pre>50.5</pre></div></td><td><div class=\"dni-plaintext\"><pre>2472.66</pre></div></td><td><div class=\"dni-plaintext\"><pre>446517.62</pre></div></td><td><div class=\"dni-plaintext\"><pre>492126.44</pre></div></td></tr></tbody></table><style>\r\n",
       ".dni-code-hint {\r\n",
       "    font-style: italic;\r\n",
       "    overflow: hidden;\r\n",
       "    white-space: nowrap;\r\n",
       "}\r\n",
       ".dni-treeview {\r\n",
       "    white-space: nowrap;\r\n",
       "}\r\n",
       ".dni-treeview td {\r\n",
       "    vertical-align: top;\r\n",
       "    text-align: start;\r\n",
       "}\r\n",
       "details.dni-treeview {\r\n",
       "    padding-left: 1em;\r\n",
       "}\r\n",
       "table td {\r\n",
       "    text-align: start;\r\n",
       "}\r\n",
       "table tr { \r\n",
       "    vertical-align: top; \r\n",
       "    margin: 0em 0px;\r\n",
       "}\r\n",
       "table tr td pre \r\n",
       "{ \r\n",
       "    vertical-align: top !important; \r\n",
       "    margin: 0em 0px !important;\r\n",
       "} \r\n",
       "table th {\r\n",
       "    text-align: start;\r\n",
       "}\r\n",
       "</style>"
      ]
     },
     "metadata": {},
     "output_type": "display_data"
    }
   ],
   "source": [
    "dataFrame.Description()"
   ]
  },
  {
   "cell_type": "markdown",
   "metadata": {},
   "source": [
    "Now Filter the dataframe"
   ]
  },
  {
   "cell_type": "code",
   "execution_count": 27,
   "metadata": {
    "dotnet_interactive": {
     "language": "csharp"
    },
    "polyglot_notebook": {
     "kernelName": "csharp"
    },
    "vscode": {
     "languageId": "polyglot-notebook"
    }
   },
   "outputs": [],
   "source": [
    "PrimitiveDataFrameColumn<bool> boolFilter = dataFrame[\"CurrentPrice\"].ElementwiseLessThan(250000);\n",
    "DataFrame filteredDataFrame = dataFrame.Filter(boolFilter);\n"
   ]
  },
  {
   "cell_type": "markdown",
   "metadata": {},
   "source": [
    "Optionally, describe the filtered output"
   ]
  },
  {
   "cell_type": "code",
   "execution_count": 22,
   "metadata": {
    "dotnet_interactive": {
     "language": "csharp"
    },
    "polyglot_notebook": {
     "kernelName": "csharp"
    },
    "vscode": {
     "languageId": "polyglot-notebook"
    }
   },
   "outputs": [
    {
     "data": {
      "text/html": [
       "<table id=\"table_638600886267875033\"><thead><tr><th><i>index</i></th><th>Description</th><th>Id</th><th>Size</th><th>HistoricalPrice</th><th>CurrentPrice</th></tr></thead><tbody><tr><td><i><div class=\"dni-plaintext\"><pre>0</pre></div></i></td><td>Length (excluding null values)</td><td><div class=\"dni-plaintext\"><pre>9</pre></div></td><td><div class=\"dni-plaintext\"><pre>9</pre></div></td><td><div class=\"dni-plaintext\"><pre>9</pre></div></td><td><div class=\"dni-plaintext\"><pre>9</pre></div></td></tr><tr><td><i><div class=\"dni-plaintext\"><pre>1</pre></div></i></td><td>Max</td><td><div class=\"dni-plaintext\"><pre>83</pre></div></td><td><div class=\"dni-plaintext\"><pre>3971</pre></div></td><td><div class=\"dni-plaintext\"><pre>228015</pre></div></td><td><div class=\"dni-plaintext\"><pre>242976.61</pre></div></td></tr><tr><td><i><div class=\"dni-plaintext\"><pre>2</pre></div></i></td><td>Min</td><td><div class=\"dni-plaintext\"><pre>14</pre></div></td><td><div class=\"dni-plaintext\"><pre>930</pre></div></td><td><div class=\"dni-plaintext\"><pre>190666</pre></div></td><td><div class=\"dni-plaintext\"><pre>211842.75</pre></div></td></tr><tr><td><i><div class=\"dni-plaintext\"><pre>3</pre></div></i></td><td>Mean</td><td><div class=\"dni-plaintext\"><pre>43</pre></div></td><td><div class=\"dni-plaintext\"><pre>2655.7778</pre></div></td><td><div class=\"dni-plaintext\"><pre>207175.11</pre></div></td><td><div class=\"dni-plaintext\"><pre>228663.48</pre></div></td></tr></tbody></table><style>\r\n",
       ".dni-code-hint {\r\n",
       "    font-style: italic;\r\n",
       "    overflow: hidden;\r\n",
       "    white-space: nowrap;\r\n",
       "}\r\n",
       ".dni-treeview {\r\n",
       "    white-space: nowrap;\r\n",
       "}\r\n",
       ".dni-treeview td {\r\n",
       "    vertical-align: top;\r\n",
       "    text-align: start;\r\n",
       "}\r\n",
       "details.dni-treeview {\r\n",
       "    padding-left: 1em;\r\n",
       "}\r\n",
       "table td {\r\n",
       "    text-align: start;\r\n",
       "}\r\n",
       "table tr { \r\n",
       "    vertical-align: top; \r\n",
       "    margin: 0em 0px;\r\n",
       "}\r\n",
       "table tr td pre \r\n",
       "{ \r\n",
       "    vertical-align: top !important; \r\n",
       "    margin: 0em 0px !important;\r\n",
       "} \r\n",
       "table th {\r\n",
       "    text-align: start;\r\n",
       "}\r\n",
       "</style>"
      ]
     },
     "metadata": {},
     "output_type": "display_data"
    }
   ],
   "source": [
    "filteredDataFrame.Description()"
   ]
  },
  {
   "cell_type": "markdown",
   "metadata": {},
   "source": [
    "We can also display the filtered dataframe in a grid"
   ]
  },
  {
   "cell_type": "code",
   "execution_count": 28,
   "metadata": {
    "dotnet_interactive": {
     "language": "csharp"
    },
    "polyglot_notebook": {
     "kernelName": "csharp"
    },
    "vscode": {
     "languageId": "polyglot-notebook"
    }
   },
   "outputs": [
    {
     "data": {
      "text/html": [
       "<table id=\"table_638600887532935646\"><thead><tr><th><i>index</i></th><th>Id</th><th>Size</th><th>HistoricalPrice</th><th>CurrentPrice</th></tr></thead><tbody><tr><td><i><div class=\"dni-plaintext\"><pre>0</pre></div></i></td><td><div class=\"dni-plaintext\"><pre>14</pre></div></td><td><div class=\"dni-plaintext\"><pre>3971</pre></div></td><td><div class=\"dni-plaintext\"><pre>191986</pre></div></td><td><div class=\"dni-plaintext\"><pre>211842.75</pre></div></td></tr><tr><td><i><div class=\"dni-plaintext\"><pre>1</pre></div></i></td><td><div class=\"dni-plaintext\"><pre>16</pre></div></td><td><div class=\"dni-plaintext\"><pre>930</pre></div></td><td><div class=\"dni-plaintext\"><pre>190666</pre></div></td><td><div class=\"dni-plaintext\"><pre>214247.5</pre></div></td></tr><tr><td><i><div class=\"dni-plaintext\"><pre>2</pre></div></i></td><td><div class=\"dni-plaintext\"><pre>21</pre></div></td><td><div class=\"dni-plaintext\"><pre>3653</pre></div></td><td><div class=\"dni-plaintext\"><pre>208535</pre></div></td><td><div class=\"dni-plaintext\"><pre>237870.84</pre></div></td></tr><tr><td><i><div class=\"dni-plaintext\"><pre>3</pre></div></i></td><td><div class=\"dni-plaintext\"><pre>27</pre></div></td><td><div class=\"dni-plaintext\"><pre>1259</pre></div></td><td><div class=\"dni-plaintext\"><pre>202538</pre></div></td><td><div class=\"dni-plaintext\"><pre>225423.61</pre></div></td></tr><tr><td><i><div class=\"dni-plaintext\"><pre>4</pre></div></i></td><td><div class=\"dni-plaintext\"><pre>41</pre></div></td><td><div class=\"dni-plaintext\"><pre>3534</pre></div></td><td><div class=\"dni-plaintext\"><pre>228015</pre></div></td><td><div class=\"dni-plaintext\"><pre>237234.75</pre></div></td></tr><tr><td><i><div class=\"dni-plaintext\"><pre>5</pre></div></i></td><td><div class=\"dni-plaintext\"><pre>52</pre></div></td><td><div class=\"dni-plaintext\"><pre>2097</pre></div></td><td><div class=\"dni-plaintext\"><pre>221585</pre></div></td><td><div class=\"dni-plaintext\"><pre>235392.67</pre></div></td></tr><tr><td><i><div class=\"dni-plaintext\"><pre>6</pre></div></i></td><td><div class=\"dni-plaintext\"><pre>59</pre></div></td><td><div class=\"dni-plaintext\"><pre>3624</pre></div></td><td><div class=\"dni-plaintext\"><pre>203939</pre></div></td><td><div class=\"dni-plaintext\"><pre>224465.48</pre></div></td></tr><tr><td><i><div class=\"dni-plaintext\"><pre>7</pre></div></i></td><td><div class=\"dni-plaintext\"><pre>74</pre></div></td><td><div class=\"dni-plaintext\"><pre>3873</pre></div></td><td><div class=\"dni-plaintext\"><pre>199959</pre></div></td><td><div class=\"dni-plaintext\"><pre>228517.12</pre></div></td></tr><tr><td><i><div class=\"dni-plaintext\"><pre>8</pre></div></i></td><td><div class=\"dni-plaintext\"><pre>83</pre></div></td><td><div class=\"dni-plaintext\"><pre>961</pre></div></td><td><div class=\"dni-plaintext\"><pre>217353</pre></div></td><td><div class=\"dni-plaintext\"><pre>242976.61</pre></div></td></tr></tbody></table><style>\r\n",
       ".dni-code-hint {\r\n",
       "    font-style: italic;\r\n",
       "    overflow: hidden;\r\n",
       "    white-space: nowrap;\r\n",
       "}\r\n",
       ".dni-treeview {\r\n",
       "    white-space: nowrap;\r\n",
       "}\r\n",
       ".dni-treeview td {\r\n",
       "    vertical-align: top;\r\n",
       "    text-align: start;\r\n",
       "}\r\n",
       "details.dni-treeview {\r\n",
       "    padding-left: 1em;\r\n",
       "}\r\n",
       "table td {\r\n",
       "    text-align: start;\r\n",
       "}\r\n",
       "table tr { \r\n",
       "    vertical-align: top; \r\n",
       "    margin: 0em 0px;\r\n",
       "}\r\n",
       "table tr td pre \r\n",
       "{ \r\n",
       "    vertical-align: top !important; \r\n",
       "    margin: 0em 0px !important;\r\n",
       "} \r\n",
       "table th {\r\n",
       "    text-align: start;\r\n",
       "}\r\n",
       "</style>"
      ]
     },
     "metadata": {},
     "output_type": "display_data"
    }
   ],
   "source": [
    "filteredDataFrame"
   ]
  },
  {
   "cell_type": "markdown",
   "metadata": {},
   "source": [
    "Let's try a simple transform on the filtered dataframe.  Let's find the difference between the current price and the historical price to see if our home values are going up or down."
   ]
  },
  {
   "cell_type": "code",
   "execution_count": 29,
   "metadata": {
    "dotnet_interactive": {
     "language": "csharp"
    },
    "polyglot_notebook": {
     "kernelName": "csharp"
    },
    "vscode": {
     "languageId": "polyglot-notebook"
    }
   },
   "outputs": [
    {
     "data": {
      "text/html": [
       "<table id=\"table_638600887564881261\"><thead><tr><th><i>index</i></th><th>Id</th><th>Size</th><th>HistoricalPrice</th><th>CurrentPrice</th><th>PriceIncrease</th><th>PriceIncreasePct</th><th>PricePerSqft</th></tr></thead><tbody><tr><td><i><div class=\"dni-plaintext\"><pre>0</pre></div></i></td><td><div class=\"dni-plaintext\"><pre>14</pre></div></td><td><div class=\"dni-plaintext\"><pre>3971</pre></div></td><td><div class=\"dni-plaintext\"><pre>191986</pre></div></td><td><div class=\"dni-plaintext\"><pre>211842.75</pre></div></td><td><div class=\"dni-plaintext\"><pre>19856.75</pre></div></td><td><div class=\"dni-plaintext\"><pre>9.373344480991364</pre></div></td><td><div class=\"dni-plaintext\"><pre>53.347458</pre></div></td></tr><tr><td><i><div class=\"dni-plaintext\"><pre>1</pre></div></i></td><td><div class=\"dni-plaintext\"><pre>16</pre></div></td><td><div class=\"dni-plaintext\"><pre>930</pre></div></td><td><div class=\"dni-plaintext\"><pre>190666</pre></div></td><td><div class=\"dni-plaintext\"><pre>214247.5</pre></div></td><td><div class=\"dni-plaintext\"><pre>23581.5</pre></div></td><td><div class=\"dni-plaintext\"><pre>11.006662994623184</pre></div></td><td><div class=\"dni-plaintext\"><pre>230.37366</pre></div></td></tr><tr><td><i><div class=\"dni-plaintext\"><pre>2</pre></div></i></td><td><div class=\"dni-plaintext\"><pre>21</pre></div></td><td><div class=\"dni-plaintext\"><pre>3653</pre></div></td><td><div class=\"dni-plaintext\"><pre>208535</pre></div></td><td><div class=\"dni-plaintext\"><pre>237870.84</pre></div></td><td><div class=\"dni-plaintext\"><pre>29335.844</pre></div></td><td><div class=\"dni-plaintext\"><pre>12.332677096128464</pre></div></td><td><div class=\"dni-plaintext\"><pre>65.11658</pre></div></td></tr><tr><td><i><div class=\"dni-plaintext\"><pre>3</pre></div></i></td><td><div class=\"dni-plaintext\"><pre>27</pre></div></td><td><div class=\"dni-plaintext\"><pre>1259</pre></div></td><td><div class=\"dni-plaintext\"><pre>202538</pre></div></td><td><div class=\"dni-plaintext\"><pre>225423.61</pre></div></td><td><div class=\"dni-plaintext\"><pre>22885.61</pre></div></td><td><div class=\"dni-plaintext\"><pre>10.152268409729004</pre></div></td><td><div class=\"dni-plaintext\"><pre>179.04973</pre></div></td></tr><tr><td><i><div class=\"dni-plaintext\"><pre>4</pre></div></i></td><td><div class=\"dni-plaintext\"><pre>41</pre></div></td><td><div class=\"dni-plaintext\"><pre>3534</pre></div></td><td><div class=\"dni-plaintext\"><pre>228015</pre></div></td><td><div class=\"dni-plaintext\"><pre>237234.75</pre></div></td><td><div class=\"dni-plaintext\"><pre>9219.75</pre></div></td><td><div class=\"dni-plaintext\"><pre>3.8863405585289</pre></div></td><td><div class=\"dni-plaintext\"><pre>67.12924</pre></div></td></tr><tr><td><i><div class=\"dni-plaintext\"><pre>5</pre></div></i></td><td><div class=\"dni-plaintext\"><pre>52</pre></div></td><td><div class=\"dni-plaintext\"><pre>2097</pre></div></td><td><div class=\"dni-plaintext\"><pre>221585</pre></div></td><td><div class=\"dni-plaintext\"><pre>235392.67</pre></div></td><td><div class=\"dni-plaintext\"><pre>13807.672</pre></div></td><td><div class=\"dni-plaintext\"><pre>5.865803733468056</pre></div></td><td><div class=\"dni-plaintext\"><pre>112.252106</pre></div></td></tr><tr><td><i><div class=\"dni-plaintext\"><pre>6</pre></div></i></td><td><div class=\"dni-plaintext\"><pre>59</pre></div></td><td><div class=\"dni-plaintext\"><pre>3624</pre></div></td><td><div class=\"dni-plaintext\"><pre>203939</pre></div></td><td><div class=\"dni-plaintext\"><pre>224465.48</pre></div></td><td><div class=\"dni-plaintext\"><pre>20526.484</pre></div></td><td><div class=\"dni-plaintext\"><pre>9.144606441259384</pre></div></td><td><div class=\"dni-plaintext\"><pre>61.9386</pre></div></td></tr><tr><td><i><div class=\"dni-plaintext\"><pre>7</pre></div></i></td><td><div class=\"dni-plaintext\"><pre>74</pre></div></td><td><div class=\"dni-plaintext\"><pre>3873</pre></div></td><td><div class=\"dni-plaintext\"><pre>199959</pre></div></td><td><div class=\"dni-plaintext\"><pre>228517.12</pre></div></td><td><div class=\"dni-plaintext\"><pre>28558.125</pre></div></td><td><div class=\"dni-plaintext\"><pre>12.497148662805557</pre></div></td><td><div class=\"dni-plaintext\"><pre>59.002613</pre></div></td></tr><tr><td><i><div class=\"dni-plaintext\"><pre>8</pre></div></i></td><td><div class=\"dni-plaintext\"><pre>83</pre></div></td><td><div class=\"dni-plaintext\"><pre>961</pre></div></td><td><div class=\"dni-plaintext\"><pre>217353</pre></div></td><td><div class=\"dni-plaintext\"><pre>242976.61</pre></div></td><td><div class=\"dni-plaintext\"><pre>25623.61</pre></div></td><td><div class=\"dni-plaintext\"><pre>10.5457104742527</pre></div></td><td><div class=\"dni-plaintext\"><pre>252.83727</pre></div></td></tr></tbody></table><style>\r\n",
       ".dni-code-hint {\r\n",
       "    font-style: italic;\r\n",
       "    overflow: hidden;\r\n",
       "    white-space: nowrap;\r\n",
       "}\r\n",
       ".dni-treeview {\r\n",
       "    white-space: nowrap;\r\n",
       "}\r\n",
       ".dni-treeview td {\r\n",
       "    vertical-align: top;\r\n",
       "    text-align: start;\r\n",
       "}\r\n",
       "details.dni-treeview {\r\n",
       "    padding-left: 1em;\r\n",
       "}\r\n",
       "table td {\r\n",
       "    text-align: start;\r\n",
       "}\r\n",
       "table tr { \r\n",
       "    vertical-align: top; \r\n",
       "    margin: 0em 0px;\r\n",
       "}\r\n",
       "table tr td pre \r\n",
       "{ \r\n",
       "    vertical-align: top !important; \r\n",
       "    margin: 0em 0px !important;\r\n",
       "} \r\n",
       "table th {\r\n",
       "    text-align: start;\r\n",
       "}\r\n",
       "</style>"
      ]
     },
     "metadata": {},
     "output_type": "display_data"
    }
   ],
   "source": [
    "filteredDataFrame[\"PriceIncrease\"] = filteredDataFrame[\"CurrentPrice\"] - filteredDataFrame[\"HistoricalPrice\"];\n",
    "filteredDataFrame[\"PriceIncreasePct\"] = filteredDataFrame[\"PriceIncrease\"] / filteredDataFrame[\"CurrentPrice\"]*100;\n",
    "filteredDataFrame[\"PricePerSqft\"] = filteredDataFrame[\"CurrentPrice\"] / filteredDataFrame[\"Size\"];\n",
    "filteredDataFrame"
   ]
  },
  {
   "cell_type": "markdown",
   "metadata": {},
   "source": [
    "Now write the filtered dataframe out to a new csv file."
   ]
  },
  {
   "cell_type": "code",
   "execution_count": 30,
   "metadata": {
    "vscode": {
     "languageId": "polyglot-notebook"
    }
   },
   "outputs": [],
   "source": [
    "DataFrame.SaveCsv(filteredDataFrame, \"data/result.csv\", ',');"
   ]
  }
 ],
 "metadata": {
  "kernelspec": {
   "display_name": ".NET (C#)",
   "language": "C#",
   "name": ".net-csharp"
  },
  "language_info": {
   "name": "csharp"
  },
  "polyglot_notebook": {
   "kernelInfo": {
    "defaultKernelName": "csharp",
    "items": [
     {
      "aliases": [],
      "name": "csharp"
     }
    ]
   }
  }
 },
 "nbformat": 4,
 "nbformat_minor": 2
}
