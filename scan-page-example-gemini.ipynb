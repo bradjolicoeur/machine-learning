{
 "cells": [
  {
   "cell_type": "code",
   "execution_count": 6,
   "metadata": {
    "dotnet_interactive": {
     "language": "csharp"
    },
    "polyglot_notebook": {
     "kernelName": "csharp"
    },
    "vscode": {
     "languageId": "polyglot-notebook"
    }
   },
   "outputs": [
    {
     "data": {
      "text/html": [
       "<div><div></div><div></div><div><strong>Installed Packages</strong><ul><li><span>HtmlAgilityPack, 1.11.65</span></li><li><span>Microsoft.Extensions.Configuration, 8.0.0</span></li><li><span>Microsoft.Extensions.Configuration.FileExtensions, 8.0.1</span></li><li><span>Microsoft.Extensions.Configuration.Json, 8.0.0</span></li><li><span>Microsoft.SemanticKernel, 1.33.0</span></li><li><span>Microsoft.SemanticKernel.Connectors.Google, 1.33.0-alpha</span></li><li><span>ReverseMarkdown, 4.6.0</span></li></ul></div></div>"
      ]
     },
     "metadata": {},
     "output_type": "display_data"
    }
   ],
   "source": [
    "\n",
    "#r \"nuget:HtmlAgilityPack, 1.11.65\"\n",
    "#r \"nuget:ReverseMarkdown, 4.6.0\"\n",
    "#r \"nuget: Microsoft.Extensions.Configuration, 8.0.0\"\n",
    "#r \"nuget: Microsoft.Extensions.Configuration.FileExtensions, 8.0.1\"\n",
    "#r \"nuget: Microsoft.Extensions.Configuration.Json, 8.0.0\"\n",
    "#r \"nuget: Microsoft.SemanticKernel, 1.33.0\"\n",
    "#r \"nuget: Microsoft.SemanticKernel.Connectors.Google, 1.33.0-alpha\"\n",
    "\n",
    "using HtmlAgilityPack;\n",
    "using ReverseMarkdown;\n",
    "using Microsoft.Extensions.Configuration;\n",
    "using System.IO;\n",
    "\n",
    "\n",
    "using Microsoft.SemanticKernel;\n",
    "using Microsoft.SemanticKernel.ChatCompletion;\n",
    "using Microsoft.SemanticKernel.Connectors.OpenAI;\n",
    "\n",
    "public static var config = new ConfigurationBuilder()\n",
    "          .AddJsonFile(Path.GetFullPath(\"secrets.json\"), optional: false, reloadOnChange: true)\n",
    "          .Build();\n",
    "\n",
    "public static string AIKey =  config[\"gemini-key\"];"
   ]
  },
  {
   "cell_type": "code",
   "execution_count": null,
   "metadata": {
    "dotnet_interactive": {
     "language": "csharp"
    },
    "polyglot_notebook": {
     "kernelName": "csharp"
    },
    "vscode": {
     "languageId": "polyglot-notebook"
    }
   },
   "outputs": [],
   "source": [
    "var url = \"https://bradjolicoeur.com/article/html-to-json-semantic-kernel\";\n",
    "var uri = new Uri(url);\n",
    "\n",
    "// Get the URL specified\n",
    "var webGet = new HtmlWeb();\n",
    "var document = await webGet.LoadFromWebAsync(url);\n",
    "var body =  document.DocumentNode.SelectSingleNode(\"/html/body\");\n",
    "var metaTags = document.DocumentNode.SelectNodes(\"//meta\");\n",
    "var metaText = string.Empty;\n"
   ]
  },
  {
   "cell_type": "code",
   "execution_count": 8,
   "metadata": {
    "dotnet_interactive": {
     "language": "csharp"
    },
    "polyglot_notebook": {
     "kernelName": "csharp"
    },
    "vscode": {
     "languageId": "polyglot-notebook"
    }
   },
   "outputs": [],
   "source": [
    "if (metaTags != null)\n",
    "{\n",
    "    var sb = new StringBuilder();\n",
    "    foreach (var item in metaTags)\n",
    "    {\n",
    "        sb.Append(item.GetAttributeValue(\"property\", \"\"));\n",
    "        sb.Append('|');\n",
    "        sb.Append(item.GetAttributeValue(\"content\", \"\"));\n",
    "        sb.AppendLine();\n",
    "    }\n",
    "    metaText = sb.ToString();\n",
    "}\n"
   ]
  },
  {
   "cell_type": "code",
   "execution_count": 9,
   "metadata": {
    "dotnet_interactive": {
     "language": "csharp"
    },
    "polyglot_notebook": {
     "kernelName": "csharp"
    },
    "vscode": {
     "languageId": "polyglot-notebook"
    }
   },
   "outputs": [],
   "source": [
    "var config = new ReverseMarkdown.Config{\n",
    "    UnknownTags = Config.UnknownTagsOption.Drop\n",
    "};\n",
    "\n",
    "var converter = new ReverseMarkdown.Converter(config);\n",
    "string html = body.OuterHtml;\n",
    "\n",
    "string markdownText = converter.Convert(html);\n"
   ]
  },
  {
   "cell_type": "code",
   "execution_count": 12,
   "metadata": {
    "dotnet_interactive": {
     "language": "csharp"
    },
    "polyglot_notebook": {
     "kernelName": "csharp"
    },
    "vscode": {
     "languageId": "polyglot-notebook"
    }
   },
   "outputs": [
    {
     "data": {
      "text/plain": [
       "|IE=edge\r\n",
       "|ApvK67ociHgr2egd6c2ZjrfPuRs8BHcvSggogIOPQNH7GJ3cVlyJ1NOq/COCdj0+zxskqHt9HgLLETc8qqD+vwsAAABteyJvcmlnaW4iOiJodHRwczovL3lvdXR1YmUuY29tOjQ0MyIsImZlYXR1cmUiOiJQcml2YWN5U2FuZGJveEFkc0FQSXMiLCJleHBpcnkiOjE2OTUxNjc5OTksImlzU3ViZG9tYWluIjp0cnVlfQ==\r\n",
       "|rgba(255, 255, 255, 0.98)\r\n",
       "|Bolt.DIY + Gemini 2.0 Pro: Develop a Full-stack App 100% FREE Without Writing Code! (OPENSOURCE)\r\n",
       "|Want to build full-stack web apps without writing a single line of code? With Bolt.DIY and Gemini 2.0 Pro, you can prompt, run, edit, and deploy applications...\r\n",
       "|bolt diy, cursor alternative, ai coding, bolt.diy, gemini 2.0 pro, no-code development, full-stack ai, open-source ai, build apps with ai, llm coding, Bolt.DIY + Deepseek-R1, bolt.new + deepseek r1, deepseek r1, bolt free alternative, gemini new ai coder, bolt diy new ai coder, fully free new ai coder, opensource alternative to v0, opensource alternative alternative to bolt, text to application, text to frontend, claude alternative, cline, free api, free gemini 2.0 pro api\r\n",
       "og:site_name|YouTube\r\n",
       "og:url|https://www.youtube.com/watch?v=nYg-sZB6jxI\r\n",
       "og:title|Bolt.DIY + Gemini 2.0 Pro: Develop a Full-stack App 100% FREE Without Writing Code! (OPENSOURCE)\r\n",
       "og:image|https://i.ytimg.com/vi/nYg-sZB6jxI/maxresdefault.jpg\r\n",
       "og:image:width|1280\r\n",
       "og:image:height|720\r\n",
       "og:description|Want to build full-stack web apps without writing a single line of code? With Bolt.DIY and Gemini 2.0 Pro, you can prompt, run, edit, and deploy applications...\r\n",
       "al:ios:app_store_id|544007664\r\n",
       "al:ios:app_name|YouTube\r\n",
       "al:ios:url|vnd.youtube://www.youtube.com/watch?v=nYg-sZB6jxI&amp;feature=applinks\r\n",
       "al:android:url|vnd.youtube://www.youtube.com/watch?v=nYg-sZB6jxI&amp;feature=applinks\r\n",
       "al:web:url|http://www.youtube.com/watch?v=nYg-sZB6jxI&amp;feature=applinks\r\n",
       "og:type|video.other\r\n",
       "og:video:url|https://www.youtube.com/embed/nYg-sZB6jxI\r\n",
       "og:video:secure_url|https://www.youtube.com/embed/nYg-sZB6jxI\r\n",
       "og:video:type|text/html\r\n",
       "og:video:width|1280\r\n",
       "og:video:height|720\r\n",
       "al:android:app_name|YouTube\r\n",
       "al:android:package|com.google.android.youtube\r\n",
       "og:video:tag|bolt diy\r\n",
       "og:video:tag|cursor alternative\r\n",
       "og:video:tag|ai coding\r\n",
       "og:video:tag|bolt.diy\r\n",
       "og:video:tag|gemini 2.0 pro\r\n",
       "og:video:tag|no-code development\r\n",
       "og:video:tag|full-stack ai\r\n",
       "og:video:tag|open-source ai\r\n",
       "og:video:tag|build apps with ai\r\n",
       "og:video:tag|llm coding\r\n",
       "og:video:tag|Bolt.DIY + Deepseek-R1\r\n",
       "og:video:tag|bolt.new + deepseek r1\r\n",
       "og:video:tag|deepseek r1\r\n",
       "og:video:tag|bolt free alternative\r\n",
       "og:video:tag|gemini new ai coder\r\n",
       "og:video:tag|bolt diy new ai coder\r\n",
       "og:video:tag|fully free new ai coder\r\n",
       "og:video:tag|opensource alternative to v0\r\n",
       "og:video:tag|opensource alternative alternative to bolt\r\n",
       "og:video:tag|text to application\r\n",
       "og:video:tag|text to frontend\r\n",
       "og:video:tag|claude alternative\r\n",
       "og:video:tag|cline\r\n",
       "og:video:tag|free api\r\n",
       "og:video:tag|free gemini 2.0 pro api\r\n",
       "fb:app_id|87741124305\r\n",
       "|player\r\n",
       "|@youtube\r\n",
       "|https://www.youtube.com/watch?v=nYg-sZB6jxI\r\n",
       "|Bolt.DIY + Gemini 2.0 Pro: Develop a Full-stack App 100% FREE Without Writing Code! (OPENSOURCE)\r\n",
       "|Want to build full-stack web apps without writing a single line of code? With Bolt.DIY and Gemini 2.0 Pro, you can prompt, run, edit, and deploy applications...\r\n",
       "|https://i.ytimg.com/vi/nYg-sZB6jxI/maxresdefault.jpg\r\n",
       "|YouTube\r\n",
       "|544007664\r\n",
       "|YouTube\r\n",
       "|544007664\r\n",
       "|vnd.youtube://www.youtube.com/watch?v=nYg-sZB6jxI&amp;feature=applinks\r\n",
       "|vnd.youtube://www.youtube.com/watch?v=nYg-sZB6jxI&amp;feature=applinks\r\n",
       "|YouTube\r\n",
       "|com.google.android.youtube\r\n",
       "|https://www.youtube.com/watch?v=nYg-sZB6jxI\r\n",
       "|https://www.youtube.com/embed/nYg-sZB6jxI\r\n",
       "|1280\r\n",
       "|720\r\n",
       "|Bolt.DIY + Gemini 2.0 Pro: Develop a Full-stack App 100% FREE Without Writing Code! (OPENSOURCE)\r\n",
       "|Want to build full-stack web apps without writing a single line of code? With Bolt.DIY and Gemini 2.0 Pro, you can prompt, run, edit, and deploy applications...\r\n",
       "|False\r\n",
       "|nYg-sZB6jxI\r\n",
       "|PT9M24S\r\n",
       "|1280\r\n",
       "|720\r\n",
       "|HTML5 Flash\r\n",
       "|1280\r\n",
       "|720\r\n",
       "|true\r\n",
       "|AD,AE,AF,AG,AI,AL,AM,AO,AQ,AR,AS,AT,AU,AW,AX,AZ,BA,BB,BD,BE,BF,BG,BH,BI,BJ,BL,BM,BN,BO,BQ,BR,BS,BT,BV,BW,BY,BZ,CA,CC,CD,CF,CG,CH,CI,CK,CL,CM,CN,CO,CR,CU,CV,CW,CX,CY,CZ,DE,DJ,DK,DM,DO,DZ,EC,EE,EG,EH,ER,ES,ET,FI,FJ,FK,FM,FO,FR,GA,GB,GD,GE,GF,GG,GH,GI,GL,GM,GN,GP,GQ,GR,GS,GT,GU,GW,GY,HK,HM,HN,HR,HT,HU,ID,IE,IL,IM,IN,IO,IQ,IR,IS,IT,JE,JM,JO,JP,KE,KG,KH,KI,KM,KN,KP,KR,KW,KY,KZ,LA,LB,LC,LI,LK,LR,LS,LT,LU,LV,LY,MA,MC,MD,ME,MF,MG,MH,MK,ML,MM,MN,MO,MP,MQ,MR,MS,MT,MU,MV,MW,MX,MY,MZ,NA,NC,NE,NF,NG,NI,NL,NO,NP,NR,NU,NZ,OM,PA,PE,PF,PG,PH,PK,PL,PM,PN,PR,PS,PT,PW,PY,QA,RE,RO,RS,RU,RW,SA,SB,SC,SD,SE,SG,SH,SI,SJ,SK,SL,SM,SN,SO,SR,SS,ST,SV,SX,SY,SZ,TC,TD,TF,TG,TH,TJ,TK,TL,TM,TN,TO,TR,TT,TV,TW,TZ,UA,UG,UM,US,UY,UZ,VA,VC,VE,VG,VI,VN,VU,WF,WS,YE,YT,ZA,ZM,ZW\r\n",
       "|4239\r\n",
       "|2025-02-07T17:14:59-08:00\r\n",
       "|2025-02-07T17:14:59-08:00\r\n",
       "|Science &amp; Technology\r\n",
       "\r\n",
       "\r\n"
      ]
     },
     "metadata": {},
     "output_type": "display_data"
    }
   ],
   "source": [
    "var sbAllText = new StringBuilder();\n",
    "sbAllText.AppendLine(metaText);\n",
    "sbAllText.AppendLine(markdownText);\n",
    "var textToSummarize = sbAllText.ToString();\n",
    "\n",
    "textToSummarize"
   ]
  },
  {
   "cell_type": "code",
   "execution_count": 11,
   "metadata": {
    "dotnet_interactive": {
     "language": "csharp"
    },
    "polyglot_notebook": {
     "kernelName": "csharp"
    },
    "vscode": {
     "languageId": "polyglot-notebook"
    }
   },
   "outputs": [
    {
     "data": {
      "text/plain": [
       "```json\n",
       "{\n",
       "  \"Author\": \"@youtube\",\n",
       "  \"PublishDate\": \"2025-02-07T17:14:59-08:00\",\n",
       "  \"Title\": \"Bolt.DIY + Gemini 2.0 Pro: Develop a Full-stack App 100% FREE Without Writing Code! (OPENSOURCE)\",\n",
       "  \"Summary\": \"Build full-stack web apps without coding using Bolt.DIY and Gemini 2.0 Pro.  Prompt, run, edit, and deploy applications 100% free and open-source.\",\n",
       "  \"KeyWords\": \"bolt diy, gemini 2.0 pro, no-code development, full-stack ai, open-source ai, ai coding, cursor alternative\",\n",
       "  \"ImageUrl\": \"https://i.ytimg.com/vi/nYg-sZB6jxI/maxresdefault.jpg\"\n",
       "}\n",
       "```\n"
      ]
     },
     "metadata": {},
     "output_type": "display_data"
    }
   ],
   "source": [
    "#pragma warning disable SKEXP0070\n",
    "#pragma warning disable SKEXP0010\n",
    "\n",
    "static string ModelId = \"gemini-1.5-pro\";\n",
    "\n",
    "// Create a kernel with OpenAI chat completion\n",
    "var kernel = Kernel.CreateBuilder().AddGoogleAIGeminiChatCompletion(ModelId,AIKey).Build();\n",
    "//var builder = Kernel.CreateBuilder()\n",
    "//.AddOpenAIChatCompletion(ModelId, OpenAIKey);\n",
    "\n",
    "//Kernel kernel = builder.Build();\n",
    "\n",
    "// Create and print out the prompt\n",
    "string prompt = $\"\"\"     \n",
    "    Please summarize the the following text in 50 words or less for an summary to use in LinkedIn Featured section:\n",
    "    {textToSummarize}\n",
    "\n",
    "    Output the summary along with the other properties in the JSON schema below.\n",
    "\n",
    "    Use this JSON Schema:\n",
    "    Article = 'Author':str, 'PublishDate':datetime, 'Title':str, 'Summary':str, 'KeyWords':str, 'ImageUrl':str \n",
    "\n",
    "    \"\"\";\n",
    "\n",
    "// Submit the prompt and print out the response\n",
    "string response = await kernel.InvokePromptAsync<string>(\n",
    "    prompt,\n",
    "    new(new OpenAIPromptExecutionSettings() \n",
    "        { \n",
    "            MaxTokens = 1000,\n",
    "            ResponseFormat = \"json_object\"\n",
    "        })\n",
    "    );\n",
    "\n",
    "response"
   ]
  }
 ],
 "metadata": {
  "kernelspec": {
   "display_name": ".NET (C#)",
   "language": "C#",
   "name": ".net-csharp"
  },
  "language_info": {
   "name": "csharp"
  },
  "polyglot_notebook": {
   "kernelInfo": {
    "defaultKernelName": "csharp",
    "items": [
     {
      "aliases": [],
      "name": "csharp"
     }
    ]
   }
  }
 },
 "nbformat": 4,
 "nbformat_minor": 2
}
