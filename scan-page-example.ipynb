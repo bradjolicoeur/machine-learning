{
 "cells": [
  {
   "cell_type": "code",
   "execution_count": 1,
   "metadata": {
    "dotnet_interactive": {
     "language": "csharp"
    },
    "polyglot_notebook": {
     "kernelName": "csharp"
    },
    "vscode": {
     "languageId": "polyglot-notebook"
    }
   },
   "outputs": [
    {
     "data": {
      "text/html": [
       "<div><div></div><div></div><div><strong>Installed Packages</strong><ul><li><span>HtmlAgilityPack, 1.11.65</span></li><li><span>Microsoft.Extensions.Configuration, 8.0.0</span></li><li><span>Microsoft.Extensions.Configuration.FileExtensions, 8.0.1</span></li><li><span>Microsoft.Extensions.Configuration.Json, 8.0.0</span></li><li><span>Microsoft.SemanticKernel, 1.17.2</span></li><li><span>ReverseMarkdown, 4.6.0</span></li></ul></div></div>"
      ]
     },
     "metadata": {},
     "output_type": "display_data"
    }
   ],
   "source": [
    "#r \"nuget:HtmlAgilityPack, 1.11.65\"\n",
    "#r \"nuget:ReverseMarkdown, 4.6.0\"\n",
    "#r \"nuget: Microsoft.Extensions.Configuration, 8.0.0\"\n",
    "#r \"nuget: Microsoft.Extensions.Configuration.FileExtensions, 8.0.1\"\n",
    "#r \"nuget: Microsoft.Extensions.Configuration.Json, 8.0.0\"\n",
    "#r \"nuget: Microsoft.SemanticKernel, 1.17.2\"\n",
    "\n",
    "using HtmlAgilityPack;\n",
    "using ReverseMarkdown;\n",
    "using Microsoft.Extensions.Configuration;\n",
    "using System.IO;\n",
    "\n",
    "\n",
    "using Microsoft.SemanticKernel;\n",
    "using Microsoft.SemanticKernel.ChatCompletion;\n",
    "using Microsoft.SemanticKernel.Connectors.OpenAI;\n",
    "\n",
    "public static var config = new ConfigurationBuilder()\n",
    "          .AddJsonFile(Path.GetFullPath(\"secrets.json\"), optional: false, reloadOnChange: true)\n",
    "          .Build();\n",
    "\n",
    "public static string OpenAIKey =  config[\"openai-key\"];"
   ]
  },
  {
   "cell_type": "code",
   "execution_count": null,
   "metadata": {
    "dotnet_interactive": {
     "language": "csharp"
    },
    "polyglot_notebook": {
     "kernelName": "csharp"
    },
    "vscode": {
     "languageId": "polyglot-notebook"
    }
   },
   "outputs": [],
   "source": [
    "var url = \"https://www.docker.com/blog/wasm-vs-docker/\";\n",
    "var uri = new Uri(url);\n",
    "\n",
    "// Get the URL specified\n",
    "var webGet = new HtmlWeb();\n",
    "var document = webGet.Load(uri);\n",
    "var body =  document.DocumentNode.SelectSingleNode(\"/html/body\");\n",
    "var metaTags = document.DocumentNode.SelectNodes(\"//meta\");\n",
    "var hasMeta = metaTags != null;\n",
    "var metaText = string.Empty;\n",
    "\n",
    "body.OuterHtml"
   ]
  },
  {
   "cell_type": "code",
   "execution_count": null,
   "metadata": {
    "vscode": {
     "languageId": "polyglot-notebook"
    }
   },
   "outputs": [],
   "source": [
    "body.OuterHtml"
   ]
  },
  {
   "cell_type": "code",
   "execution_count": 56,
   "metadata": {
    "vscode": {
     "languageId": "polyglot-notebook"
    }
   },
   "outputs": [],
   "source": [
    "if(hasMeta)\n",
    "{\n",
    "   var sb = new StringBuilder();\n",
    "   foreach(var item in metaTags)\n",
    "   {\n",
    "    sb.AppendLine(item.GetAttributeValue(\"property\", \"\") + \"|\"+ item.GetAttributeValue(\"content\", \"\"));\n",
    "   }\n",
    "   metaText = sb.ToString();\n",
    "}"
   ]
  },
  {
   "cell_type": "code",
   "execution_count": 57,
   "metadata": {
    "vscode": {
     "languageId": "polyglot-notebook"
    }
   },
   "outputs": [
    {
     "data": {
      "text/plain": [
       "|\r\n",
       "|IE=edge\r\n",
       "|Learn what WebAssembly is, why to use it, and how Docker and Wasm work together.\r\n",
       "|follow, index, max-snippet:-1, max-video-preview:-1, max-image-preview:large\r\n",
       "og:locale|en_US\r\n",
       "og:type|article\r\n",
       "og:title|Wasm vs. Docker | Docker\r\n",
       "og:description|Learn what WebAssembly is, why to use it, and how Docker and Wasm work together.\r\n",
       "og:url|https://www.docker.com/blog/wasm-vs-docker/\r\n",
       "og:site_name|Docker\r\n",
       "article:publisher|https://www.facebook.com/docker.run\r\n",
       "article:tag|containers\r\n",
       "article:tag|Docker\r\n",
       "article:tag|Docker Desktop\r\n",
       "article:tag|vs\r\n",
       "article:tag|WebAssembly (Wasm)\r\n",
       "article:section|Products\r\n",
       "og:updated_time|2024-08-05T09:23:49-07:00\r\n",
       "og:image|https://www.docker.com/wp-content/uploads/2024/05/1300x1300_wasm-vs-docker-1024x1024.png\r\n",
       "og:image:secure_url|https://www.docker.com/wp-content/uploads/2024/05/1300x1300_wasm-vs-docker-1024x1024.png\r\n",
       "og:image:width|1024\r\n",
       "og:image:height|1024\r\n",
       "og:image:alt|Square illustration with white text on blue background saying Wasm vs. Docker\r\n",
       "og:image:type|image/png\r\n",
       "article:published_time|2024-05-09T11:39:15-07:00\r\n",
       "article:modified_time|2024-08-05T09:23:49-07:00\r\n",
       "|summary_large_image\r\n",
       "|Wasm vs. Docker | Docker\r\n",
       "|Learn what WebAssembly is, why to use it, and how Docker and Wasm work together.\r\n",
       "|@Docker\r\n",
       "|@Docker\r\n",
       "|https://www.docker.com/wp-content/uploads/2024/05/1300x1300_wasm-vs-docker-1024x1024.png\r\n",
       "|Written by\r\n",
       "|Savannah Ostrowski\r\n",
       "|Time to read\r\n",
       "|7 minutes\r\n",
       "|Docker (divi-child) v.1.0.0-alpha-20230702\r\n",
       "|https://www.docker.com\r\n",
       "og:image|https://www.docker.com/wp-content/uploads/2024/05/1300x1300_wasm-vs-docker.png\r\n",
       "og:title|Wasm vs. Docker: Performant, Secure, and Versatile Containers\r\n",
       "|width=device-width, initial-scale=1.0, maximum-scale=1.0, user-scalable=0\r\n",
       "|https://www.docker.com/wp-content/uploads/2024/02/cropped-docker-logo-favicon-270x270.png\r\n"
      ]
     },
     "metadata": {},
     "output_type": "display_data"
    }
   ],
   "source": [
    "metaText"
   ]
  },
  {
   "cell_type": "code",
   "execution_count": 26,
   "metadata": {
    "dotnet_interactive": {
     "language": "csharp"
    },
    "polyglot_notebook": {
     "kernelName": "csharp"
    },
    "vscode": {
     "languageId": "polyglot-notebook"
    }
   },
   "outputs": [
    {
     "data": {
      "text/plain": [
       "# Wasm vs. Docker: Performant, Secure, and Versatile Containers\r\n",
       "\r\n",
       "![](https://www.docker.com/wp-content/uploads/2024/03/Savannah-Ostrowski.webp)\r\n",
       "\r\n",
       "[Savannah Ostrowski](https://www.docker.com/author/savannah-ostrowski/ \"Posts by Savannah Ostrowski\")\r\n",
       "\r\n",
       "![](https://www.docker.com/wp-content/uploads/2024/04/Sohan-Profile-scaled.jpeg)\r\n",
       "\r\n",
       "[Sohan Maheshwar](https://www.docker.com/author/sohan-mahehwar/ \"Posts by Sohan Maheshwar\")\r\n",
       "\r\n",
       "Docker and WebAssembly (Wasm) represent two pivotal technologies that have reshaped the software development landscape. You’ve probably started to hear more about Wasm in the past few years as it has gained in popularity, and perhaps you’ve also heard about the benefits of using it in your application stack. This may have led you to think about the differences between Wasm and Docker, especially because the technologies work together so closely.\r\n",
       "\r\n",
       "In this article, we’ll explore how these two technologies can work together to enable you to deliver consistent, efficient, and secure environments for deploying applications. By marrying these two tools, developers can easily reap the performance benefits of WebAssembly with containerized software development.\r\n",
       "\r\n",
       "## What’s Wasm?\r\n",
       "\r\n",
       "[Wasm](https://webassembly.org/) is a compact binary instruction format governed by the World Wide Web Consortium (W3C). It’s a portable compilation target for more than 40 programming languages, like C/C++, C#, JavaScript, Go, and Rust. In other words, Wasm is a bytecode format encoded to run on a stack-based virtual machine.\r\n",
       "\r\n",
       "Similar to the way Java can be compiled to Java bytecode and executed on the Java Virtual Machine (JVM), which can then be compiled to run on various architectures, a program can be compiled to Wasm bytecode and then executed by a Wasm runtime, which can be packaged to run on different architectures, such as Arm and x86.\r\n",
       "\r\n",
       "### What’s a Wasm runtime?\r\n",
       "\r\n",
       "Wasm runtimes bridge the gap between portable bytecode and the underlying hardware architecture. They also provide APIs to communicate with the host environment and provide interoperability between other languages, such as JavaScript.\r\n",
       "\r\n",
       "At a high level, a Wasm runtime runs your bytecode in [three semantic phases](https://webassembly.github.io/spec/core/intro/overview.html#semantic-phases):\r\n",
       "\r\n",
       "1. **Decoding**: Processing the module to convert it to an internal representation\r\n",
       "2. **Validation**: Checking to see that the decoded module is valid\r\n",
       "3. **Execution**: Installing and invoking a valid module\r\n",
       "\r\n",
       "Wasm runtime examples include [Spin](https://developer.fermyon.com/spin/v2/index), [Wasmtime](https://wasmtime.dev/), [WasmEdge](https://wasmedge.org/), and [Wasmer](https://wasmer.io/). Major browsers like Firefox and Chrome also use [Spider Monkey](https://spidermonkey.dev/) and [V8](https://v8.dev/), respectively.\r\n",
       "\r\n",
       "## Why use Wasm?\r\n",
       "\r\n",
       "To understand why you might want to use WebAssembly in your application stack, let’s examine its main benefits — notably, security without sacrificing performance and versatility.\r\n",
       "\r\n",
       "### Security without sacrificing performance\r\n",
       "\r\n",
       "Wasm enables code to run at near-native speed within a secure, sandboxed environment, protecting systems from malicious software. This performance is achieved through just-in-time (JIT) compilation of WebAssembly bytecode directly into machine code, bypassing the need for transpiling into an intermediate format. \r\n",
       "\r\n",
       "Wasm also uses shared linear memory — a contiguous block of memory that simplifies data exchange between modules or between WebAssembly and JavaScript. This design allows for efficient communication and enables developers to blend the flexibility of JavaScript with the robust performance of WebAssembly in a single application.\r\n",
       "\r\n",
       "The security of this system is further enhanced by the design of the host runtime environment, which acts as a sandbox. It restricts the Wasm module from accessing anything outside of the designated memory space and from performing potentially dangerous operations like file system access, network requests, and system calls. WebAssembly’s requirement for explicit imports and exports to access host functionality adds another layer of control, ensuring a secure execution environment.\r\n",
       "\r\n",
       "### Use case versatility\r\n",
       "\r\n",
       "Finally, WebAssembly is relevant for more than traditional web platforms (contrary to its name). It’s also an excellent tool for server-side applications, edge computing, game development, and cloud/serverless computing. If performance, security, or target device resources are a concern, consider using this compact binary format.\r\n",
       "\r\n",
       "During the past few years, WebAssembly has become more prevalent on the server side because of the WebAssembly System Interface (or [WASI](https://wasi.dev/)). WASI is [a modular API for Wasm](https://github.com/bytecodealliance/wasmtime/blob/main/docs/WASI-overview.md) that provides access to operating system features like files, filesystems, and clocks. \r\n",
       "\r\n",
       "## Docker vs. Wasm: How are they related?\r\n",
       "\r\n",
       "After reading about WebAssembly code, you might be wondering how Docker is relevant. Doesn’t WebAssembly handle sandboxing and portability? How does Docker fit in the picture? Let’s discuss further.\r\n",
       "\r\n",
       "Docker helps developers build, run, and share applications — including those that use Wasm. This is especially true because Wasm is a complementary technology to Linux containers. However, handling these containers without solid developer experience can quickly become a roadblock to application development.\r\n",
       "\r\n",
       "That’s where Docker comes in with a smooth developer experience for building with Wasm and/or Linux containers.\r\n",
       "\r\n",
       "### Benefits of using Docker and Wasm together\r\n",
       "\r\n",
       "Using Docker and Wasm together affords great developer experience benefits as well, including:\r\n",
       "\r\n",
       "- **Consistent development environments:** Developers can use Docker to containerize their Wasm runtime environments. This approach allows for a consistent Wasm development and execution environment that works the same way across any machine, from local development to production.\r\n",
       "- **Efficient deployment:** By packaging Wasm applications within Docker, developers can leverage efficient image management and distribution capabilities. This makes deploying and scaling these types of applications easier across various environments.\r\n",
       "- **Security and isolation:** Although **** Docker isolates applications at the operating system level, Wasm provides a sandboxed execution environment. When used together, the technologies offer a robust layered security model against many common vulnerabilities.\r\n",
       "- **Enhanced performance:** Developers can use Docker containers to deploy Wasm applications in serverless architectures or as microservices. This lets you take advantage of Wasm’s performance benefits in a scalable and manageable way.\r\n",
       "\r\n",
       "### How to enable Wasm on Docker Desktop\r\n",
       "\r\n",
       "If you’re interested in running WebAssembly containers, you’re in luck! Support for[Wasm workloads](https://docs.docker.com/desktop/wasm/) is now in beta, and you can enable it on Docker Desktop by checking **Enable Wasm** on the **Features in development** tab under **Settings** (Figure 2).\r\n",
       "\r\n",
       "**Note:** Make sure you have [containerd image store support](https://docs.docker.com/desktop/containerd/#enable-the-containerd-image-store) enabled first.\r\n",
       "\r\n",
       "After enabling Wasm in Docker Desktop, you’re ready to go. Docker currently supports many Wasm runtimes, including Spin, WasmEdge, and Wasmtime. You can also find [detailed documentation](https://docs.docker.com/desktop/wasm/#usage-examples) that explains how to run these applications.\r\n",
       "\r\n",
       "### How Docker supports WebAssembly\r\n",
       "\r\n",
       "To explain how Docker supports WebAssembly, we’ll need to quickly review how the Docker Engine works.\r\n",
       "\r\n",
       "The Docker Engine builds on a [higher-level container runtime called containerd](https://www.docker.com/blog/containerd-vs-docker/). This runtime provides fundamental functionality to control the container lifecycle. Using a shim process, containerd can leverage[runc](https://github.com/opencontainers/runc) (a low-level runtime) under the hood. Then, runc can interact directly with the operating system to manage various aspects of containers.\r\n",
       "\r\n",
       "What’s neat about this design is that anyone can write a shim to integrate other runtimes with containerd, including WebAssembly runtimes. As a result, you can [plug-and-play](https://docs.docker.com/engine/alternative-runtimes/) with various Wasm runtimes in Docker, like WasmEdge, Spin, and Wasmtime.\r\n",
       "\r\n",
       "## The future of WebAssembly and Docker\r\n",
       "\r\n",
       "WebAssembly is continuously evolving, so you’ll need a tight pulse to keep up with ecosystem developments. One recent advancement relates to how the new [WebAssembly Component model](https://component-model.bytecodealliance.org/) will impact shims for the various container runtimes. At Docker, we’re working to make it simple for developers to create Wasm containers and enhance the developer experience.\r\n",
       "\r\n",
       "In a [famous 2019 tweet thread](https://twitter.com/solomonstre/status/1111004913222324225?lang=en), Docker founder Solomon Hykes described the future of cloud computing. In this future, he describes a world where Docker runs Windows, Linux, and WebAssembly containers side by side. Given all the recent developments in the ecosystem, that future is well and truly here.\r\n",
       "\r\n",
       "Recent advancements include:\r\n",
       "\r\n",
       "- **The launch of** [**WASI Preview 2**](https://github.com/WebAssembly/WASI/blob/main/preview2/README.md) **fully rebased WASI on the component model type system and semantics**: This makes it modular, fully virtualizable, and accessible to various source languages.\r\n",
       "- **Fermyon, Microsoft, SUSE, LiquidReply, and others have also released the** [**SpinKube**](https://github.com/spinkube) **open source project:** The project provided a straightforward path for deploying Wasm-based serverless functions into Kubernetes clusters. Developers can use SpinKube with Docker via k3s (a lightweight wrapper to run Rancher Lab’s minimal Kubernetes distribution). Docker Desktop also includes the shim, which enables you to run Kubernetes containers on your local machine.\r\n",
       "\r\n",
       "In 2024, we expect the combination of Wasm and containers to be highly regarded for its efficiency, scalability, and cost.\r\n",
       "\r\n",
       "### Wrapping things up\r\n",
       "\r\n",
       "In this article, we explained how Docker and Wasm work together and how to use Docker for Wasm workloads. We’re excited to see Wasm’s adoption grow in the coming years and will continue to enhance our support to meet developers both where they’re at and where they’re headed. \r\n",
       "\r\n",
       "Check out the following related materials for details on Wasm and how it works with Docker:\r\n",
       "\r\n",
       "- [Introducing the Docker+Wasm Technical Preview](https://www.docker.com/blog/docker-wasm-technical-preview/)\r\n",
       "- [Announcing Docker+Wasm Technical Preview 2](https://www.docker.com/blog/announcing-dockerwasm-technical-preview-2/)\r\n",
       "- [Build, Share, and Run WebAssembly Apps Using Docker](https://www.docker.com/blog/build-share-run-webassembly-apps-docker/)\r\n",
       "- [A WebAssembly Deep Dive — How Wasm works under the hood](https://www.youtube.com/watch?v=VGLnqkegX-g)\r\n",
       "\r\n",
       "## Learn more\r\n",
       "\r\n",
       "- Subscribe to the [Docker Newsletter](https://www.docker.com/newsletter-subscription/).\r\n",
       "- Get the latest release of [Docker Desktop](https://www.docker.com/products/docker-desktop/).\r\n",
       "- Vote on what’s next! Check out our [public roadmap](https://github.com/docker/roadmap).\r\n",
       "- Have questions? The [Docker community is here to help](https://www.docker.com/community/).\r\n",
       "- New to Docker? [Get started](https://docs.docker.com/desktop/).\r\n",
       "\r\n",
       "*Thanks to Sohan Maheshwar, Developer Advocate Lead at [Fermyon](https://www.fermyon.com/), for collaborating on this post.*\r\n",
       "\r\n",
       "[containers](https://www.docker.com/blog/tag/containers/), [Docker](https://www.docker.com/blog/tag/docker/), [Docker Desktop](https://www.docker.com/blog/tag/docker-desktop/), [vs](https://www.docker.com/blog/tag/vs/), [WebAssembly (Wasm)](https://www.docker.com/blog/tag/webassembly-wasm/)\r\n",
       "\r\n",
       "https://www.docker.com/blog/streamlining-local-development-with-dev-containers-and-testcontainers-cloud/\r\n",
       "#### [Streamlining Local Development with Dev Containers and Testcontainers Cloud](https://www.docker.com/blog/streamlining-local-development-with-dev-containers-and-testcontainers-cloud/)\r\n",
       "\r\n",
       "By [Anna Chernyshova](https://www.docker.com/author/achernyshova/ \"Posts by Anna Chernyshova\") August 27, 2024\r\n",
       "\r\n",
       "https://www.docker.com/blog/optimizing-ai-application-development-docker-desktop-nvidia-ai-workbench/\r\n",
       "#### [Optimizing AI Application Development with Docker Desktop and NVIDIA AI Workbench](https://www.docker.com/blog/optimizing-ai-application-development-docker-desktop-nvidia-ai-workbench/)\r\n",
       "\r\n",
       "By [Savannah Ostrowski](https://www.docker.com/author/savannah-ostrowski/ \"Posts by Savannah Ostrowski\") August 26, 2024\r\n",
       "\r\n",
       "https://www.docker.com/blog/how-to-fix-eslint-violations-with-ai-assistance/\r\n",
       "#### [How to Fix ESLint Violations with AI Assistance](https://www.docker.com/blog/how-to-fix-eslint-violations-with-ai-assistance/)\r\n",
       "\r\n",
       "By [Docker Labs](https://www.docker.com/author/docker-labs/ \"Posts by Docker Labs\") August 26, 2024\r\n",
       "\r\n",
       "#### Posted\r\n",
       "\r\n",
       "May 9, 2024\r\n",
       "\r\n",
       "- https://twitter.com/intent/tweet?url=https%3A%2F%2Fwww.docker.com%2Fblog%2Fwasm-vs-docker%2F\r\n",
       "- https://www.linkedin.com/sharing/share-offsite/?url=https%3A%2F%2Fwww.docker.com%2Fblog%2Fwasm-vs-docker%2F\r\n",
       "- https://www.facebook.com/sharer/sharer.php?u=https%3A%2F%2Fwww.docker.com%2Fblog%2Fwasm-vs-docker%2F\r\n",
       "\r\n",
       "#### Post Tags\r\n",
       "\r\n",
       "[containers](https://www.docker.com/blog/tag/containers/)[Docker](https://www.docker.com/blog/tag/docker/)[Docker Desktop](https://www.docker.com/blog/tag/docker-desktop/)[vs](https://www.docker.com/blog/tag/vs/)[WebAssembly (Wasm)](https://www.docker.com/blog/tag/webassembly-wasm/)\r\n",
       "\r\n",
       "#### Categories\r\n",
       "\r\n",
       "- [Community](https://www.docker.com/blog/category/community-content/)\r\n",
       "- [Company](https://www.docker.com/blog/category/company/)\r\n",
       "- [Engineering](https://www.docker.com/blog/category/engineering/)\r\n",
       "- [Products](https://www.docker.com/blog/category/products/)"
      ]
     },
     "metadata": {},
     "output_type": "display_data"
    }
   ],
   "source": [
    "var config = new ReverseMarkdown.Config{\n",
    "    UnknownTags = Config.UnknownTagsOption.Drop\n",
    "};\n",
    "\n",
    "var converter = new ReverseMarkdown.Converter(config);\n",
    "string html = body.OuterHtml;\n",
    "\n",
    "string result = converter.Convert(html);\n",
    "result"
   ]
  },
  {
   "cell_type": "code",
   "execution_count": 60,
   "metadata": {
    "dotnet_interactive": {
     "language": "csharp"
    },
    "polyglot_notebook": {
     "kernelName": "csharp"
    },
    "vscode": {
     "languageId": "polyglot-notebook"
    }
   },
   "outputs": [
    {
     "name": "stdout",
     "output_type": "stream",
     "text": [
      "assistant >>> {\n",
      "  \"Author\": \"Unknown\",\n",
      "  \"Date\": \"Current Date and Time\",\n",
      "  \"Title\": \"Understanding How to Specify JSON Schema\",\n",
      "  \"Summary\": \"Explains the properties of a JSON schema for Article Summary in a concise manner for software engineers.\"\n",
      "}\r\n"
     ]
    }
   ],
   "source": [
    "static string ModelId = \"gpt-3.5-turbo\";\n",
    "\n",
    "// Create a kernel with OpenAI chat completion\n",
    "var builder = Kernel.CreateBuilder()\n",
    ".AddOpenAIChatCompletion(ModelId, OpenAIKey);\n",
    "\n",
    "Kernel kernel = builder.Build();\n",
    "\n",
    "var textToSummarize = hasMeta ? metaText : result;\n",
    "\n",
    "\n",
    "// Create and print out the prompt\n",
    "string promptBody = $\"\"\"\n",
    "    Consider a JSON schema for Article Summary that includes the following  properties: Author:string, Date:datetime, Title:string, Summary:string \n",
    "    \n",
    "    Please summarize the the following text in 30 words or less for software engineers as the audience and output in json:\n",
    "    {textToSummarize}\n",
    "\n",
    "    # How to respond to this prompt\n",
    "        - No other text, just the JSON data\n",
    "    \"\"\";\n",
    "\n",
    "// Create and print out the prompt\n",
    "string promptMeta = $@\"\"\"\n",
    "    Consider a JSON schema for Article Summary that includes the following  properties: Author:string, Date:datetime, Title:string, Summary:string \n",
    "\n",
    "    A key value par is represented as \n",
    "    key|value\n",
    "\n",
    "    using the map below put the value of the corresponding key in the json document\n",
    "\n",
    "    map\n",
    "    og:description = Summary\n",
    "    og:title = Title\n",
    "    \n",
    "    Extract the Article Summary from the key value pairs below and output in json:\n",
    "    {textToSummarize}\n",
    "\n",
    "    \"\"\";\n",
    "\n",
    "string promp = hasMeta ? promptMeta : promptBody;\n",
    "\n",
    "// Submit the prompt and print out the response\n",
    "string response = await kernel.InvokePromptAsync<string>(\n",
    "    prompt,\n",
    "    new(new OpenAIPromptExecutionSettings() \n",
    "        { \n",
    "            MaxTokens = 400 \n",
    "        })\n",
    "    );\n",
    "Console.WriteLine($\"assistant >>> {response}\");"
   ]
  }
 ],
 "metadata": {
  "kernelspec": {
   "display_name": ".NET (C#)",
   "language": "C#",
   "name": ".net-csharp"
  },
  "language_info": {
   "name": "csharp"
  },
  "polyglot_notebook": {
   "kernelInfo": {
    "defaultKernelName": "csharp",
    "items": [
     {
      "aliases": [],
      "name": "csharp"
     }
    ]
   }
  }
 },
 "nbformat": 4,
 "nbformat_minor": 2
}
