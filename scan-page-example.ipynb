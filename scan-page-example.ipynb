{
 "cells": [
  {
   "cell_type": "code",
   "execution_count": 16,
   "metadata": {
    "dotnet_interactive": {
     "language": "csharp"
    },
    "polyglot_notebook": {
     "kernelName": "csharp"
    },
    "vscode": {
     "languageId": "polyglot-notebook"
    }
   },
   "outputs": [
    {
     "data": {
      "text/html": [
       "<div><div></div><div></div><div><strong>Installed Packages</strong><ul><li><span>HtmlAgilityPack, 1.11.65</span></li><li><span>Microsoft.Extensions.Configuration, 8.0.0</span></li><li><span>Microsoft.Extensions.Configuration.FileExtensions, 8.0.1</span></li><li><span>Microsoft.Extensions.Configuration.Json, 8.0.0</span></li><li><span>Microsoft.SemanticKernel, 1.18.2</span></li><li><span>ReverseMarkdown, 4.6.0</span></li></ul></div></div>"
      ]
     },
     "metadata": {},
     "output_type": "display_data"
    }
   ],
   "source": [
    "\n",
    "#r \"nuget:HtmlAgilityPack, 1.11.65\"\n",
    "#r \"nuget:ReverseMarkdown, 4.6.0\"\n",
    "#r \"nuget: Microsoft.Extensions.Configuration, 8.0.0\"\n",
    "#r \"nuget: Microsoft.Extensions.Configuration.FileExtensions, 8.0.1\"\n",
    "#r \"nuget: Microsoft.Extensions.Configuration.Json, 8.0.0\"\n",
    "#r \"nuget: Microsoft.SemanticKernel, 1.18.2\"\n",
    "\n",
    "using HtmlAgilityPack;\n",
    "using ReverseMarkdown;\n",
    "using Microsoft.Extensions.Configuration;\n",
    "using System.IO;\n",
    "\n",
    "\n",
    "using Microsoft.SemanticKernel;\n",
    "using Microsoft.SemanticKernel.ChatCompletion;\n",
    "using Microsoft.SemanticKernel.Connectors.OpenAI;\n",
    "\n",
    "public static var config = new ConfigurationBuilder()\n",
    "          .AddJsonFile(Path.GetFullPath(\"secrets.json\"), optional: false, reloadOnChange: true)\n",
    "          .Build();\n",
    "\n",
    "public static string OpenAIKey =  config[\"openai-key\"];"
   ]
  },
  {
   "cell_type": "code",
   "execution_count": 17,
   "metadata": {
    "dotnet_interactive": {
     "language": "csharp"
    },
    "polyglot_notebook": {
     "kernelName": "csharp"
    },
    "vscode": {
     "languageId": "polyglot-notebook"
    }
   },
   "outputs": [],
   "source": [
    "var url = \"https://bradjolicoeur.com/article/html-to-json-semantic-kernel\";\n",
    "var uri = new Uri(url);\n",
    "\n",
    "// Get the URL specified\n",
    "var webGet = new HtmlWeb();\n",
    "var document = await webGet.LoadFromWebAsync(url);\n",
    "var body =  document.DocumentNode.SelectSingleNode(\"/html/body\");\n",
    "var metaTags = document.DocumentNode.SelectNodes(\"//meta\");\n",
    "var metaText = string.Empty;\n"
   ]
  },
  {
   "cell_type": "code",
   "execution_count": 18,
   "metadata": {
    "dotnet_interactive": {
     "language": "csharp"
    },
    "polyglot_notebook": {
     "kernelName": "csharp"
    },
    "vscode": {
     "languageId": "polyglot-notebook"
    }
   },
   "outputs": [],
   "source": [
    "if (metaTags != null)\n",
    "{\n",
    "    var sb = new StringBuilder();\n",
    "    foreach (var item in metaTags)\n",
    "    {\n",
    "        sb.Append(item.GetAttributeValue(\"property\", \"\"));\n",
    "        sb.Append('|');\n",
    "        sb.Append(item.GetAttributeValue(\"content\", \"\"));\n",
    "        sb.AppendLine();\n",
    "    }\n",
    "    metaText = sb.ToString();\n",
    "}\n"
   ]
  },
  {
   "cell_type": "code",
   "execution_count": 19,
   "metadata": {
    "dotnet_interactive": {
     "language": "csharp"
    },
    "polyglot_notebook": {
     "kernelName": "csharp"
    },
    "vscode": {
     "languageId": "polyglot-notebook"
    }
   },
   "outputs": [],
   "source": [
    "var config = new ReverseMarkdown.Config{\n",
    "    UnknownTags = Config.UnknownTagsOption.Drop\n",
    "};\n",
    "\n",
    "var converter = new ReverseMarkdown.Converter(config);\n",
    "string html = body.OuterHtml;\n",
    "\n",
    "string markdownText = converter.Convert(html);\n"
   ]
  },
  {
   "cell_type": "code",
   "execution_count": 20,
   "metadata": {
    "dotnet_interactive": {
     "language": "csharp"
    },
    "polyglot_notebook": {
     "kernelName": "csharp"
    },
    "vscode": {
     "languageId": "polyglot-notebook"
    }
   },
   "outputs": [],
   "source": [
    "var sbAllText = new StringBuilder();\n",
    "sbAllText.AppendLine(metaText);\n",
    "sbAllText.AppendLine(markdownText);\n",
    "var textToSummarize = sbAllText.ToString();"
   ]
  },
  {
   "cell_type": "code",
   "execution_count": 21,
   "metadata": {
    "dotnet_interactive": {
     "language": "csharp"
    },
    "polyglot_notebook": {
     "kernelName": "csharp"
    },
    "vscode": {
     "languageId": "polyglot-notebook"
    }
   },
   "outputs": [
    {
     "data": {
      "text/plain": [
       "{\"Author\":\"Brad Jolicoeur\",\"PublishDate\":\"2024-09-28T00:00:00Z\",\"Title\":\"Convert HTML into JSON using Semantic Kernel and OpenAI\",\"Summary\":\"Utilizing Semantic Kernel and OpenAI, I enhanced page scanning accuracy by converting HTML to markdown and extracting metatags, resulting in reduced input size and improved efficiency.\",\"KeyWords\":\"Semantic Kernel, OpenAI, HTML, JSON, page scanning\",\"ImageUrl\":\"https://storage.googleapis.com/blastcms-prod/blog-blastcms/3d223ea9-420e-4622-90b1-b8beba986840-20240928183627.jpg\"}"
      ]
     },
     "metadata": {},
     "output_type": "display_data"
    }
   ],
   "source": [
    "#pragma warning disable SKEXP0010\n",
    "\n",
    "static string ModelId = \"gpt-4o-mini\";\n",
    "\n",
    "// Create a kernel with OpenAI chat completion\n",
    "var builder = Kernel.CreateBuilder()\n",
    ".AddOpenAIChatCompletion(ModelId, OpenAIKey);\n",
    "\n",
    "Kernel kernel = builder.Build();\n",
    "\n",
    "// Create and print out the prompt\n",
    "string prompt = $\"\"\"\n",
    "    Consider a JSON schema for Article Summary that includes the following  properties: Author:string, PublishDate:datetime, Title:string, Summary:string, KeyWords:string, ImageUrl:string \n",
    "    \n",
    "    Please summarize the the following text in 50 words or less for an summary to use in LinkedIn Featured section:\n",
    "    {textToSummarize}\n",
    "\n",
    "    # How to respond to this prompt\n",
    "        - No other text, just the JSON data\n",
    "    \"\"\";\n",
    "\n",
    "// Submit the prompt and print out the response\n",
    "string response = await kernel.InvokePromptAsync<string>(\n",
    "    prompt,\n",
    "    new(new OpenAIPromptExecutionSettings() \n",
    "        { \n",
    "            MaxTokens = 1000,\n",
    "            ResponseFormat = \"json_object\"\n",
    "        })\n",
    "    );\n",
    "\n",
    "response"
   ]
  }
 ],
 "metadata": {
  "kernelspec": {
   "display_name": ".NET (C#)",
   "language": "C#",
   "name": ".net-csharp"
  },
  "language_info": {
   "name": "csharp"
  },
  "polyglot_notebook": {
   "kernelInfo": {
    "defaultKernelName": "csharp",
    "items": [
     {
      "aliases": [],
      "name": "csharp"
     }
    ]
   }
  }
 },
 "nbformat": 4,
 "nbformat_minor": 2
}
