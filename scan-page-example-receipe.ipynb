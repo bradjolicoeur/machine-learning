{
 "cells": [
  {
   "cell_type": "code",
   "execution_count": null,
   "metadata": {
    "dotnet_interactive": {
     "language": "csharp"
    },
    "polyglot_notebook": {
     "kernelName": "csharp"
    },
    "vscode": {
     "languageId": "polyglot-notebook"
    }
   },
   "outputs": [
    {
     "data": {
      "text/html": [
       "<div><div></div><div></div><div><strong>Installed Packages</strong><ul><li><span>HtmlAgilityPack, 1.11.65</span></li><li><span>Microsoft.Extensions.Configuration, 8.0.0</span></li><li><span>Microsoft.Extensions.Configuration.FileExtensions, 8.0.1</span></li><li><span>Microsoft.Extensions.Configuration.Json, 8.0.0</span></li><li><span>Microsoft.SemanticKernel, 1.18.2</span></li><li><span>ReverseMarkdown, 4.6.0</span></li></ul></div></div>"
      ]
     },
     "metadata": {},
     "output_type": "display_data"
    }
   ],
   "source": [
    "\n",
    "#r \"nuget:HtmlAgilityPack, 1.11.65\"\n",
    "#r \"\"\"\"\"\"\"\"\"\"\"nuget:ReverseMarkdown, 4.6.0\"\n",
    "#r \"nuget: Microsoft.Extensions.Configuration, 8.0.0\"\n",
    "#r \"nuget: Microsoft.Extensions.Configuration.FileExtensions, 8.0.1\"\n",
    "#r \"nuget: Microsoft.Extensions.Configuration.Json, 8.0.0\"\n",
    "#r \"nuget: Microsoft.SemanticKernel, 1.18.2\"\n",
    "\n",
    "using HtmlAgilityPack;\n",
    "using ReverseMarkdown;\n",
    "using Microsoft.Extensions.Configuration;\n",
    "using System.IO;\n",
    "\n",
    "\n",
    "using Microsoft.SemanticKernel;\n",
    "using Microsoft.SemanticKernel.ChatCompletion;\n",
    "using Microsoft.SemanticKernel.Connectors.OpenAI;\n",
    "\n",
    "public static var config = new ConfigurationBuilder()\n",
    "          .AddJsonFile(Path.GetFullPath(\"secrets.json\"), optional: false, reloadOnChange: true)\n",
    "          .Build();\n",
    "\n",
    "public static string OpenAIKey =  config[\"openai-key\"];"
   ]
  },
  {
   "cell_type": "code",
   "execution_count": 2,
   "metadata": {
    "dotnet_interactive": {
     "language": "csharp"
    },
    "polyglot_notebook": {
     "kernelName": "csharp"
    },
    "vscode": {
     "languageId": "polyglot-notebook"
    }
   },
   "outputs": [],
   "source": [
    "var url = \"https://www.onceuponachef.com/recipes/pesto-pasta-salad.html\";\n",
    "var uri = new Uri(url);\n",
    "\n",
    "// Get the URL specified\n",
    "var webGet = new HtmlWeb();\n",
    "var document = await webGet.LoadFromWebAsync(url);\n",
    "var body =  document.DocumentNode.SelectSingleNode(\"/html/body\");\n",
    "\n"
   ]
  },
  {
   "cell_type": "code",
   "execution_count": 4,
   "metadata": {
    "dotnet_interactive": {
     "language": "csharp"
    },
    "polyglot_notebook": {
     "kernelName": "csharp"
    },
    "vscode": {
     "languageId": "polyglot-notebook"
    }
   },
   "outputs": [],
   "source": [
    "var config = new ReverseMarkdown.Config{\n",
    "    UnknownTags = Config.UnknownTagsOption.Drop\n",
    "};\n",
    "\n",
    "var converter = new ReverseMarkdown.Converter(config);\n",
    "string html = body.OuterHtml;\n",
    "\n",
    "string textToSummarize = converter.Convert(html);\n"
   ]
  },
  {
   "cell_type": "code",
   "execution_count": 8,
   "metadata": {
    "dotnet_interactive": {
     "language": "csharp"
    },
    "polyglot_notebook": {
     "kernelName": "csharp"
    },
    "vscode": {
     "languageId": "polyglot-notebook"
    }
   },
   "outputs": [
    {
     "data": {
      "text/plain": [
       "{\n",
       "  \"title\": \"22 Quick and Easy Recipes in 30 Minutes (or less)\",\n",
       "  \"description\": \"5 Chef Secrets To Make You A Better Cook!\",\n",
       "  \"ingredients\": [],\n",
       "  \"instructions\": [],\n",
       "  \"prepTime\": \"\",\n",
       "  \"cookTime\": \"\",\n",
       "  \"totalTime\": \"\",\n",
       "  \"servings\": \"\",\n",
       "  \"calories\": \"\",\n",
       "  \"imageURL\": \"\"\n",
       "}"
      ]
     },
     "metadata": {},
     "output_type": "display_data"
    }
   ],
   "source": [
    "#pragma warning disable SKEXP0010\n",
    "\n",
    "static string ModelId = \"gpt-4o-mini\";\n",
    "\n",
    "// Create a kernel with OpenAI chat completion\n",
    "var builder = Kernel.CreateBuilder()\n",
    ".AddOpenAIChatCompletion(ModelId, OpenAIKey);\n",
    "\n",
    "Kernel kernel = builder.Build();\n",
    "\n",
    "// Create and print out the prompt\n",
    "string prompt = @$\"\n",
    "Extract the main details of a recipe from the webpage below and convert them into a structured JSON format. The JSON object should have the following fields: title, description, ingredients, instructions, prepTime, cookTime, totalTime, servings, calories, and imageURL. For each field:\n",
    "\n",
    "title: Capture the recipe title as a string.\n",
    "description: Capture the recipe's description or introductory text, if available, as a string.\n",
    "ingredients: Capture the list of ingredients as an array of strings, each string being one ingredient.\n",
    "instructions: Capture the step-by-step cooking instructions as an array of strings, each string being one step.\n",
    "prepTime: Capture preparation time as a string (e.g., '15 minutes').\n",
    "cookTime: Capture cooking time as a string.\n",
    "totalTime: Capture total time (prep + cook) as a string.\n",
    "servings: Capture the number of servings as an integer or string.\n",
    "calories: Capture the calories per serving as an integer or string.\n",
    "imageURL: Capture the main image URL for the recipe, if available.\n",
    "The resulting JSON should look like this:\n",
    "\n",
    "```json\n",
    "\n",
    "  \"\"title\"\": \"\"Recipe Title\"\",\n",
    "  \"\"description\"\": \"\"Brief description of the recipe\"\",\n",
    "  \"\"ingredients\"\": [\"\"Ingredient 1\"\", \"\"Ingredient 2\"\", \"\"Ingredient 3\"\"],\n",
    "  \"\"instructions\"\": [\"\"Step 1\"\", \"\"tep 2\"\", \"\"Step 3\"\"],\n",
    "  \"\"prepTime\"\" :\"\"10 minutes\"\",\n",
    "  \"\"cookTime\"\": \"\"30 minutes\"\",\n",
    "  \"\"totalTime\"\": \"\"40 minutes\"\",\n",
    "  \"\"servings\"\": \"\"4\"\",\n",
    "  \"\"calories\"\": \"\"250\"\",\n",
    "  \"\"imageURL\"\": \"\"https://example.com/image.jpg\"\"\n",
    "\n",
    "```\n",
    "If any field is not available on the page, leave it out of the JSON object. Make sure all extracted text is clean and free from HTML tags, extraneous punctuation, or other irrelevant content.\n",
    "\n",
    "Webpage:\n",
    "{textToSummarize}\n",
    "    \";\n",
    "\n",
    "// Submit the prompt and print out the response\n",
    "string response = await kernel.InvokePromptAsync<string>(\n",
    "    prompt,\n",
    "    new(new OpenAIPromptExecutionSettings() \n",
    "        { \n",
    "            MaxTokens = 5000,\n",
    "            ResponseFormat = \"json_object\"\n",
    "        })\n",
    "    );\n",
    "\n",
    "response"
   ]
  }
 ],
 "metadata": {
  "kernelspec": {
   "display_name": ".NET (C#)",
   "language": "C#",
   "name": ".net-csharp"
  },
  "language_info": {
   "name": "csharp"
  },
  "polyglot_notebook": {
   "kernelInfo": {
    "defaultKernelName": "csharp",
    "items": [
     {
      "aliases": [],
      "name": "csharp"
     }
    ]
   }
  }
 },
 "nbformat": 4,
 "nbformat_minor": 2
}
