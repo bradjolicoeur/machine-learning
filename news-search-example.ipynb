{
 "cells": [
  {
   "cell_type": "markdown",
   "metadata": {},
   "source": [
    "This notebook shows a couple of examples to include the Bing Search Plugin for Semantic Kernel.  "
   ]
  },
  {
   "cell_type": "code",
   "execution_count": 16,
   "metadata": {
    "dotnet_interactive": {
     "language": "csharp"
    },
    "polyglot_notebook": {
     "kernelName": "csharp"
    },
    "vscode": {
     "languageId": "polyglot-notebook"
    }
   },
   "outputs": [
    {
     "data": {
      "text/html": [
       "<div><div></div><div></div><div><strong>Installed Packages</strong><ul><li><span>Microsoft.Extensions.Configuration, 8.0.0</span></li><li><span>Microsoft.Extensions.Configuration.FileExtensions, 8.0.1</span></li><li><span>Microsoft.Extensions.Configuration.Json, 8.0.0</span></li><li><span>Microsoft.SemanticKernel, 1.17.2</span></li><li><span>Microsoft.SemanticKernel.Plugins.Web, 1.18.1-alpha</span></li></ul></div></div>"
      ]
     },
     "metadata": {},
     "output_type": "display_data"
    }
   ],
   "source": [
    "#r \"nuget: Microsoft.Extensions.Configuration, 8.0.0\"\n",
    "#r \"nuget: Microsoft.Extensions.Configuration.FileExtensions, 8.0.1\"\n",
    "#r \"nuget: Microsoft.Extensions.Configuration.Json, 8.0.0\"\n",
    "#r \"nuget: Microsoft.SemanticKernel, 1.17.2\"\n",
    "#r \"nuget: Microsoft.SemanticKernel.Plugins.Web, 1.18.1-alpha\"\n",
    "\n",
    "\n",
    "using Microsoft.Extensions.Configuration;\n",
    "using System.IO;\n",
    "\n",
    "using Microsoft.SemanticKernel;\n",
    "using Microsoft.SemanticKernel.ChatCompletion;\n",
    "using Microsoft.SemanticKernel.Connectors.OpenAI;\n",
    "using Microsoft.SemanticKernel.Plugins.Web;\n",
    "\n",
    "public static var config = new ConfigurationBuilder()\n",
    "          .AddJsonFile(Path.GetFullPath(\"secrets.json\"), optional: false, reloadOnChange: true)\n",
    "          .Build();\n",
    "\n",
    "public static string OpenAIKey =  config[\"openai-key\"];\n",
    "public static string BingSearchKey = config[\"bing-key\"];"
   ]
  },
  {
   "cell_type": "markdown",
   "metadata": {},
   "source": [
    "Set up Semantic Kernel"
   ]
  },
  {
   "cell_type": "code",
   "execution_count": 31,
   "metadata": {
    "dotnet_interactive": {
     "language": "csharp"
    },
    "polyglot_notebook": {
     "kernelName": "csharp"
    },
    "vscode": {
     "languageId": "polyglot-notebook"
    }
   },
   "outputs": [],
   "source": [
    "static string ModelId = \"gpt-4o-mini\";\n",
    "\n",
    "// Create a kernel with OpenAI chat completion\n",
    "var builder = Kernel.CreateBuilder()\n",
    ".AddOpenAIChatCompletion(ModelId, OpenAIKey);\n",
    "\n",
    "Kernel kernel = builder.Build();"
   ]
  },
  {
   "cell_type": "markdown",
   "metadata": {},
   "source": [
    "Configure the Bing Search Plugin.  \n",
    "\n",
    "> Note that at this time the BingConnector gives an error warning indicating it is experimental and the pragma is required to compile the code."
   ]
  },
  {
   "cell_type": "code",
   "execution_count": 32,
   "metadata": {
    "vscode": {
     "languageId": "polyglot-notebook"
    }
   },
   "outputs": [],
   "source": [
    "#pragma warning disable SKEXP0050 \n",
    "var bingConnector = new BingConnector(BingSearchKey);\n",
    "\n",
    "kernel.ImportPluginFromObject(new WebSearchEnginePlugin(bingConnector), \"bing\");\n"
   ]
  },
  {
   "cell_type": "markdown",
   "metadata": {},
   "source": [
    "This example shows the current organizers and seems to work correctly.  This was pulled from an example I found."
   ]
  },
  {
   "cell_type": "code",
   "execution_count": 34,
   "metadata": {
    "vscode": {
     "languageId": "polyglot-notebook"
    }
   },
   "outputs": [],
   "source": [
    "var prompt = \"Who are the organizers for the Boston Azure meetup?\";\n",
    "OpenAIPromptExecutionSettings settings = new() \n",
    "    { \n",
    "        ToolCallBehavior = ToolCallBehavior.AutoInvokeKernelFunctions, \n",
    "        Temperature = 0.7f,\n",
    "        MaxTokens = 250\n",
    "    };\n",
    " var funcresult = await kernel.InvokePromptAsync(prompt, new KernelArguments(settings));\n",
    " funcresult"
   ]
  },
  {
   "cell_type": "markdown",
   "metadata": {},
   "source": [
    "Below does not work as well as I'd hoped.  The hyperlinks do not take you to the articles and the articles are very general.  I think I could tune the prompt to get better articles, but after reading the acceptable usage of the Bing Search API, it appears I would be in violation if I used the search API in the way I had envisioned it."
   ]
  },
  {
   "cell_type": "code",
   "execution_count": 43,
   "metadata": {
    "vscode": {
     "languageId": "polyglot-notebook"
    }
   },
   "outputs": [
    {
     "name": "stdout",
     "output_type": "stream",
     "text": [
      "\n",
      "ANSWER: \n",
      "\n",
      "Here are the top 10 news articles related to .NET Programming:\n",
      "\n",
      "1. **[Announcing the Azure AI Inference SDK for .NET!](https://devblogs.microsoft.com/dotnet/)**  \n",
      "   August 13, 2024. This SDK provides easy access to a comprehensive suite of AI models in the Azure AI Model Catalog for inference tasks, enabling integration of AI into applications.\n",
      "\n",
      "2. **[What’s next in .NET?](https://dotnet.microsoft.com/en-us/next)**  \n",
      "   Stay up to date with the .NET 9 preview, the next version of .NET, including recent updates and features for developers.\n",
      "\n",
      "3. **[What’s new in .NET 9 Preview 7?](https://devblogs.microsoft.com/dotnet/dotnet-9-preview-7/)**  \n",
      "   Overview of new features and breaking changes in .NET 9 Preview 7, encouraging feedback from the developer community.\n",
      "\n",
      "4. **[What’s new in .NET 9 | Microsoft Learn](https://learn.microsoft.com/en-us/dotnet/core/whats-new/dotnet-9/overview)**  \n",
      "   Details on new cryptography features, assembly building, and other enhancements in\r\n"
     ]
    }
   ],
   "source": [
    "var query = \"list the hyperlinks and summaries for the top 10 news articles related to .NET Programing\";\n",
    "\n",
    "var result = await kernel.InvokePromptAsync(query, new KernelArguments(settings));\n",
    "\n",
    "Console.WriteLine($\"\\nANSWER: \\n\\n{result}\");"
   ]
  }
 ],
 "metadata": {
  "kernelspec": {
   "display_name": ".NET (C#)",
   "language": "C#",
   "name": ".net-csharp"
  },
  "language_info": {
   "name": "csharp"
  },
  "polyglot_notebook": {
   "kernelInfo": {
    "defaultKernelName": "csharp",
    "items": [
     {
      "aliases": [],
      "name": "csharp"
     }
    ]
   }
  }
 },
 "nbformat": 4,
 "nbformat_minor": 2
}
