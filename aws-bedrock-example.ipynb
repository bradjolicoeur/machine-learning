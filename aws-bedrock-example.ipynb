{
 "cells": [
  {
   "cell_type": "code",
   "execution_count": 2,
   "metadata": {
    "dotnet_interactive": {
     "language": "csharp"
    },
    "polyglot_notebook": {
     "kernelName": "csharp"
    },
    "vscode": {
     "languageId": "polyglot-notebook"
    }
   },
   "outputs": [
    {
     "data": {
      "text/html": [
       "<div><div></div><div></div><div><strong>Installed Packages</strong><ul><li><span>AWSSDK.BedrockRuntime, 3.7.408.5</span></li><li><span>Microsoft.Extensions.Configuration, 8.0.0</span></li><li><span>Microsoft.Extensions.Configuration.FileExtensions, 8.0.1</span></li><li><span>Microsoft.Extensions.Configuration.Json, 8.0.0</span></li><li><span>Microsoft.SemanticKernel, 1.29.0</span></li></ul></div></div>"
      ]
     },
     "metadata": {},
     "output_type": "display_data"
    }
   ],
   "source": [
    "#r \"nuget: Microsoft.Extensions.Configuration, 8.0.0\"\n",
    "#r \"nuget: Microsoft.Extensions.Configuration.FileExtensions, 8.0.1\"\n",
    "#r \"nuget: Microsoft.Extensions.Configuration.Json, 8.0.0\"\n",
    "#r \"nuget: Microsoft.SemanticKernel\"\n",
    "#r \"nuget: AWSSDK.BedrockRuntime, 3.7.408.5\"\n",
    "\n"
   ]
  },
  {
   "cell_type": "markdown",
   "metadata": {},
   "source": [
    "I'm not sure this has made it into the package yet?  not finding the AddBedrockChatCompletionService extension.\n",
    "\n",
    "https://github.com/microsoft/semantic-kernel/tree/main/dotnet/samples/Demos/AmazonBedrockModels"
   ]
  },
  {
   "cell_type": "code",
   "execution_count": 3,
   "metadata": {
    "dotnet_interactive": {
     "language": "csharp"
    },
    "polyglot_notebook": {
     "kernelName": "csharp"
    },
    "vscode": {
     "languageId": "polyglot-notebook"
    }
   },
   "outputs": [
    {
     "ename": "Error",
     "evalue": "(6,2): error CS1061: 'IKernelBuilder' does not contain a definition for 'AddBedrockChatCompletionService' and no accessible extension method 'AddBedrockChatCompletionService' accepting a first argument of type 'IKernelBuilder' could be found (are you missing a using directive or an assembly reference?)",
     "output_type": "error",
     "traceback": [
      "(6,2): error CS1061: 'IKernelBuilder' does not contain a definition for 'AddBedrockChatCompletionService' and no accessible extension method 'AddBedrockChatCompletionService' accepting a first argument of type 'IKernelBuilder' could be found (are you missing a using directive or an assembly reference?)"
     ]
    }
   ],
   "source": [
    "using Microsoft.SemanticKernel;\n",
    "using Microsoft.SemanticKernel.ChatCompletion;\n",
    "using Microsoft.SemanticKernel.TextGeneration;\n",
    "\n",
    "var kernel = Kernel.CreateBuilder()\n",
    ".AddBedrockChatCompletionService(\"amazon.titan-text-premier-v1:0\")\n",
    ".Build();\n",
    "\n",
    "\n",
    "var chatCompletionService = kernel.GetRequiredService<IChatCompletionService>();\n",
    "ChatHistory chatHistory = [];\n",
    "chatHistory.AddMessage(AuthorRole.User, \"Hi! How are you?\");\n",
    "var response = await chatCompletionService.GetChatMessageContentAsync(chatHistory);\n",
    "\n",
    "Console.WriteLine(response);"
   ]
  }
 ],
 "metadata": {
  "kernelspec": {
   "display_name": ".NET (C#)",
   "language": "C#",
   "name": ".net-csharp"
  },
  "language_info": {
   "name": "csharp"
  },
  "polyglot_notebook": {
   "kernelInfo": {
    "defaultKernelName": "csharp",
    "items": [
     {
      "aliases": [],
      "name": "csharp"
     }
    ]
   }
  }
 },
 "nbformat": 4,
 "nbformat_minor": 2
}
